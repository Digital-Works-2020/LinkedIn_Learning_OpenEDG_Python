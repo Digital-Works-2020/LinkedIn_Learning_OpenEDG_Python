{
 "cells": [
  {
   "cell_type": "markdown",
   "id": "59b85bb9-3e8f-4b73-83a4-1f586a4f59d7",
   "metadata": {},
   "source": [
    "# Lists"
   ]
  },
  {
   "cell_type": "markdown",
   "id": "73810cad-ae24-4206-a18f-32c1ceb8d423",
   "metadata": {},
   "source": [
    "### Slicing"
   ]
  },
  {
   "cell_type": "code",
   "execution_count": 72,
   "id": "8281d925-b76e-4881-90f2-bb8c8c33b774",
   "metadata": {},
   "outputs": [],
   "source": [
    "myList = [1,2,3,4,5]"
   ]
  },
  {
   "cell_type": "code",
   "execution_count": 73,
   "id": "c6eeeb1a-b6af-4372-9112-702a3d413679",
   "metadata": {},
   "outputs": [
    {
     "data": {
      "text/plain": [
       "[4, 5]"
      ]
     },
     "execution_count": 73,
     "metadata": {},
     "output_type": "execute_result"
    }
   ],
   "source": [
    "myList[3:]"
   ]
  },
  {
   "cell_type": "code",
   "execution_count": 74,
   "id": "eb02d803-263d-4a0c-929f-418ebd6cfb0e",
   "metadata": {},
   "outputs": [
    {
     "data": {
      "text/plain": [
       "[1, 3, 5]"
      ]
     },
     "execution_count": 74,
     "metadata": {},
     "output_type": "execute_result"
    }
   ],
   "source": [
    "myList[0::2]"
   ]
  },
  {
   "cell_type": "code",
   "execution_count": 75,
   "id": "57854baf-e2f5-45ff-bcd3-b841288e6daa",
   "metadata": {},
   "outputs": [
    {
     "data": {
      "text/plain": [
       "[1, 3, 5]"
      ]
     },
     "execution_count": 75,
     "metadata": {},
     "output_type": "execute_result"
    }
   ],
   "source": [
    "myList[::2]"
   ]
  },
  {
   "cell_type": "code",
   "execution_count": 76,
   "id": "ed618c78-ecbc-436d-a461-54210e187a26",
   "metadata": {},
   "outputs": [],
   "source": [
    "L = list(range(100))"
   ]
  },
  {
   "cell_type": "code",
   "execution_count": 77,
   "id": "376c5e6f-a548-4ef6-b5a8-644b9f301a8a",
   "metadata": {},
   "outputs": [
    {
     "data": {
      "text/plain": [
       "[0, 5, 10, 15, 20, 25, 30, 35, 40, 45, 50, 55, 60, 65, 70, 75, 80, 85, 90, 95]"
      ]
     },
     "execution_count": 77,
     "metadata": {},
     "output_type": "execute_result"
    }
   ],
   "source": [
    "L[::5]"
   ]
  },
  {
   "cell_type": "code",
   "execution_count": 78,
   "id": "0f935488-52bf-4ba3-bdfe-27ad724501ef",
   "metadata": {},
   "outputs": [
    {
     "data": {
      "text/plain": [
       "[0, 10, 20, 30, 40, 50, 60, 70, 80, 90]"
      ]
     },
     "execution_count": 78,
     "metadata": {},
     "output_type": "execute_result"
    }
   ],
   "source": [
    "L[::10]"
   ]
  },
  {
   "cell_type": "code",
   "execution_count": 79,
   "id": "5b97e8cf-71b8-4300-aff8-d9ccfb8edc57",
   "metadata": {},
   "outputs": [
    {
     "data": {
      "text/plain": [
       "[99, 89, 79, 69, 59, 49, 39, 29, 19, 9]"
      ]
     },
     "execution_count": 79,
     "metadata": {},
     "output_type": "execute_result"
    }
   ],
   "source": [
    "L[::-10]"
   ]
  },
  {
   "cell_type": "markdown",
   "id": "a73b0ace-9dff-4471-8828-1a6cab1b0b4f",
   "metadata": {},
   "source": [
    "### Modifying Lists"
   ]
  },
  {
   "cell_type": "code",
   "execution_count": 80,
   "id": "757643cd-3f95-4429-ab3d-689ed4c93d41",
   "metadata": {},
   "outputs": [
    {
     "data": {
      "text/plain": [
       "[1, 2, 3, 4, 5, 6]"
      ]
     },
     "execution_count": 80,
     "metadata": {},
     "output_type": "execute_result"
    }
   ],
   "source": [
    "myList.append(6)\n",
    "myList"
   ]
  },
  {
   "cell_type": "code",
   "execution_count": 81,
   "id": "ed9e776e-8f61-4473-9665-a48c8b0c36dc",
   "metadata": {},
   "outputs": [
    {
     "data": {
      "text/plain": [
       "[1, 2, 3, 'New Value', 4, 5, 6]"
      ]
     },
     "execution_count": 81,
     "metadata": {},
     "output_type": "execute_result"
    }
   ],
   "source": [
    "myList.insert(3,'New Value')\n",
    "myList"
   ]
  },
  {
   "cell_type": "code",
   "execution_count": 82,
   "id": "112a9f0e-3c34-4ef8-b20d-eaca2900974f",
   "metadata": {},
   "outputs": [],
   "source": [
    "myList.remove('New Value')"
   ]
  },
  {
   "cell_type": "code",
   "execution_count": 83,
   "id": "c3265048-7309-45ff-a4d3-9dd91815492c",
   "metadata": {},
   "outputs": [
    {
     "data": {
      "text/plain": [
       "[1, 2, 3, 4, 5, 6]"
      ]
     },
     "execution_count": 83,
     "metadata": {},
     "output_type": "execute_result"
    }
   ],
   "source": [
    "myList"
   ]
  },
  {
   "cell_type": "code",
   "execution_count": 84,
   "id": "39fe026e-500d-4344-a34f-d68a48bf1fd1",
   "metadata": {},
   "outputs": [
    {
     "data": {
      "text/plain": [
       "6"
      ]
     },
     "execution_count": 84,
     "metadata": {},
     "output_type": "execute_result"
    }
   ],
   "source": [
    "myList.pop()"
   ]
  },
  {
   "cell_type": "code",
   "execution_count": 85,
   "id": "79ed0ce4-72ab-4bce-8b9a-fd839a83964a",
   "metadata": {},
   "outputs": [
    {
     "data": {
      "text/plain": [
       "[]"
      ]
     },
     "execution_count": 85,
     "metadata": {},
     "output_type": "execute_result"
    }
   ],
   "source": [
    "while len(myList):\n",
    "    myList.pop()\n",
    "myList"
   ]
  },
  {
   "cell_type": "code",
   "execution_count": 86,
   "id": "c3d99671-b634-49b3-8dd2-8b3e29adbf66",
   "metadata": {},
   "outputs": [
    {
     "name": "stdout",
     "output_type": "stream",
     "text": [
      "[1, 2, 3, 4]\n",
      "[1, 2, 3, 4]\n"
     ]
    }
   ],
   "source": [
    "a = [1,2,3]\n",
    "b = a\n",
    "a.append(4)\n",
    "print(a)\n",
    "print(b)"
   ]
  },
  {
   "cell_type": "code",
   "execution_count": 87,
   "id": "aa74cd9d-4f95-4472-94bb-72c9b05fab1a",
   "metadata": {},
   "outputs": [
    {
     "name": "stdout",
     "output_type": "stream",
     "text": [
      "[1, 2, 3, 4]\n",
      "[1, 2, 3]\n"
     ]
    }
   ],
   "source": [
    "a = [1,2,3]\n",
    "b = a.copy()\n",
    "a.append(4)\n",
    "print(a)\n",
    "print(b)"
   ]
  },
  {
   "cell_type": "markdown",
   "id": "ef3a3ee9-79a0-4f5d-ba53-2f5e2f208439",
   "metadata": {},
   "source": [
    "# Sets"
   ]
  },
  {
   "cell_type": "code",
   "execution_count": 88,
   "id": "72345a33-c503-4263-97b2-00b8fa937776",
   "metadata": {},
   "outputs": [
    {
     "data": {
      "text/plain": [
       "{'a', 'b', 'c'}"
      ]
     },
     "execution_count": 88,
     "metadata": {},
     "output_type": "execute_result"
    }
   ],
   "source": [
    "mySet = {'a','b','c'}\n",
    "mySet"
   ]
  },
  {
   "cell_type": "code",
   "execution_count": 89,
   "id": "53730eb6-f153-4274-a14e-eaa961f0fa79",
   "metadata": {},
   "outputs": [
    {
     "data": {
      "text/plain": [
       "{'a', 'b', 'c'}"
      ]
     },
     "execution_count": 89,
     "metadata": {},
     "output_type": "execute_result"
    }
   ],
   "source": [
    "mySet = set(['a','b','c'])\n",
    "mySet"
   ]
  },
  {
   "cell_type": "code",
   "execution_count": 90,
   "id": "cc366d09-bb7c-484d-9273-9b707be3d128",
   "metadata": {},
   "outputs": [
    {
     "data": {
      "text/plain": [
       "{'a', 'b', 'c'}"
      ]
     },
     "execution_count": 90,
     "metadata": {},
     "output_type": "execute_result"
    }
   ],
   "source": [
    "L = ['a','b','b','a','c']\n",
    "mySet = set(L)\n",
    "mySet"
   ]
  },
  {
   "cell_type": "code",
   "execution_count": 91,
   "id": "8a088d6c-c043-4f62-880a-257f657c3091",
   "metadata": {},
   "outputs": [
    {
     "data": {
      "text/plain": [
       "['a', 'b', 'c']"
      ]
     },
     "execution_count": 91,
     "metadata": {},
     "output_type": "execute_result"
    }
   ],
   "source": [
    "list(set(L))"
   ]
  },
  {
   "cell_type": "code",
   "execution_count": 92,
   "id": "6cb6c253-7160-486a-a606-a56b2ae15d08",
   "metadata": {},
   "outputs": [
    {
     "data": {
      "text/plain": [
       "{'a', 'b', 'c', 'd'}"
      ]
     },
     "execution_count": 92,
     "metadata": {},
     "output_type": "execute_result"
    }
   ],
   "source": [
    "mySet.add('d')\n",
    "mySet"
   ]
  },
  {
   "cell_type": "code",
   "execution_count": 93,
   "id": "36690798-fa26-4c2b-b500-504ca53a57f7",
   "metadata": {},
   "outputs": [
    {
     "data": {
      "text/plain": [
       "True"
      ]
     },
     "execution_count": 93,
     "metadata": {},
     "output_type": "execute_result"
    }
   ],
   "source": [
    "'a' in mySet"
   ]
  },
  {
   "cell_type": "code",
   "execution_count": 94,
   "id": "4c3633fb-6183-4b1f-b014-315b8433a065",
   "metadata": {},
   "outputs": [
    {
     "data": {
      "text/plain": [
       "False"
      ]
     },
     "execution_count": 94,
     "metadata": {},
     "output_type": "execute_result"
    }
   ],
   "source": [
    "'g' in mySet"
   ]
  },
  {
   "cell_type": "code",
   "execution_count": 95,
   "id": "b4529389-2ebb-4fef-98fc-9fda42037ab5",
   "metadata": {},
   "outputs": [
    {
     "data": {
      "text/plain": [
       "4"
      ]
     },
     "execution_count": 95,
     "metadata": {},
     "output_type": "execute_result"
    }
   ],
   "source": [
    "len(mySet)"
   ]
  },
  {
   "cell_type": "code",
   "execution_count": 96,
   "id": "1cb684d3-bf0b-48d9-a9ae-130307076921",
   "metadata": {},
   "outputs": [
    {
     "name": "stdout",
     "output_type": "stream",
     "text": [
      "a\n",
      "d\n",
      "b\n",
      "c\n",
      "set()\n"
     ]
    }
   ],
   "source": [
    "while mySet:\n",
    "    print(mySet.pop())\n",
    "print(mySet)"
   ]
  },
  {
   "cell_type": "code",
   "execution_count": 97,
   "id": "42d5a81d-fcb5-4939-8523-f99d8c001ea5",
   "metadata": {},
   "outputs": [],
   "source": [
    "mySet.discard('a')"
   ]
  },
  {
   "cell_type": "code",
   "execution_count": 98,
   "id": "51bbf6cf-eb72-48b9-8b8b-28f1e5f4c6a1",
   "metadata": {},
   "outputs": [
    {
     "data": {
      "text/plain": [
       "{'b', 'c', 'd'}"
      ]
     },
     "execution_count": 98,
     "metadata": {},
     "output_type": "execute_result"
    }
   ],
   "source": [
    "mySet = {'a','b','c','d'}\n",
    "mySet.discard('a')\n",
    "mySet"
   ]
  },
  {
   "cell_type": "markdown",
   "id": "adc0c12e-10a2-41bf-98c9-55c7e1db4193",
   "metadata": {},
   "source": [
    "# Tuples"
   ]
  },
  {
   "cell_type": "code",
   "execution_count": 99,
   "id": "93ed9554-c35f-4c21-a006-bfd2149c6748",
   "metadata": {},
   "outputs": [
    {
     "data": {
      "text/plain": [
       "('a', 'b', 'c')"
      ]
     },
     "execution_count": 99,
     "metadata": {},
     "output_type": "execute_result"
    }
   ],
   "source": [
    "myTup = ('a','b','c')\n",
    "myTup"
   ]
  },
  {
   "cell_type": "code",
   "execution_count": 100,
   "id": "d50672dc-64cc-4b89-b040-85345e0cdeff",
   "metadata": {},
   "outputs": [
    {
     "data": {
      "text/plain": [
       "'a'"
      ]
     },
     "execution_count": 100,
     "metadata": {},
     "output_type": "execute_result"
    }
   ],
   "source": [
    "myTup[0]"
   ]
  },
  {
   "cell_type": "markdown",
   "id": "6d16ec55-3734-4830-a22c-62960b2d0125",
   "metadata": {},
   "source": [
    "### Why Use Tuples\n",
    "- Efficient than Lists\n",
    "- They dont grow or change\n",
    "- Store compactly in memory"
   ]
  },
  {
   "cell_type": "code",
   "execution_count": 101,
   "id": "52307ea0-c93c-4180-9c8c-1dbc98e45d2e",
   "metadata": {},
   "outputs": [
    {
     "name": "stdout",
     "output_type": "stream",
     "text": [
      "(1, 2, 3)\n",
      "<class 'tuple'>\n"
     ]
    }
   ],
   "source": [
    "def return_mulitple_values():\n",
    "    return 1,2,3\n",
    "print(return_mulitple_values())\n",
    "print(type(return_mulitple_values()))"
   ]
  },
  {
   "cell_type": "code",
   "execution_count": 102,
   "id": "aeb0b6d7-67ad-45c0-b0d0-fb18eeb8c10b",
   "metadata": {},
   "outputs": [
    {
     "name": "stdout",
     "output_type": "stream",
     "text": [
      "(1, 2, 3)\n",
      "<class 'tuple'>\n"
     ]
    }
   ],
   "source": [
    "myTup = 1,2,3\n",
    "print(myTup)\n",
    "print(type(myTup))"
   ]
  },
  {
   "cell_type": "code",
   "execution_count": 103,
   "id": "4f4235b1-d3dd-4d27-a552-a81fe062791b",
   "metadata": {},
   "outputs": [
    {
     "name": "stdout",
     "output_type": "stream",
     "text": [
      "1\n",
      "2\n",
      "3\n"
     ]
    }
   ],
   "source": [
    "a,b,c = return_mulitple_values()\n",
    "print(a)\n",
    "print(b)\n",
    "print(c)"
   ]
  },
  {
   "cell_type": "markdown",
   "id": "48c4f5cd-b499-49fa-9351-ae218a024dac",
   "metadata": {},
   "source": [
    "# Dictionaries"
   ]
  },
  {
   "cell_type": "code",
   "execution_count": 104,
   "id": "6bf56b94-eace-4c8d-981f-56ec1957fc3b",
   "metadata": {},
   "outputs": [
    {
     "name": "stdout",
     "output_type": "stream",
     "text": [
      "{'Dog': 'Bark', 'Cat': 'Meow', 'Human': 'Words'}\n"
     ]
    }
   ],
   "source": [
    "animals = {\n",
    "    \"Dog\" : \"Bark\",\n",
    "    \"Cat\" : \"Meow\",\n",
    "    \"Human\" : \"Words\"\n",
    "}\n",
    "print(animals)"
   ]
  },
  {
   "cell_type": "code",
   "execution_count": 105,
   "id": "ebc6de24-351b-4879-8e84-eade037ac77f",
   "metadata": {},
   "outputs": [
    {
     "name": "stdout",
     "output_type": "stream",
     "text": [
      "{'Dog': 'Barking', 'Cat': 'Meow', 'Human': 'Words'}\n"
     ]
    }
   ],
   "source": [
    "animals[\"Dog\"] = \"Barking\"\n",
    "print(animals)"
   ]
  },
  {
   "cell_type": "code",
   "execution_count": 106,
   "id": "eabda648-3b1c-4a5e-8ae1-ea0c553c0b25",
   "metadata": {},
   "outputs": [
    {
     "name": "stdout",
     "output_type": "stream",
     "text": [
      "dict_keys(['Dog', 'Cat', 'Human'])\n"
     ]
    }
   ],
   "source": [
    "print(animals.keys())"
   ]
  },
  {
   "cell_type": "code",
   "execution_count": 107,
   "id": "70e1c401-863d-497c-82da-a8b85b33a887",
   "metadata": {},
   "outputs": [
    {
     "data": {
      "text/plain": [
       "dict_values(['Barking', 'Meow', 'Words'])"
      ]
     },
     "execution_count": 107,
     "metadata": {},
     "output_type": "execute_result"
    }
   ],
   "source": [
    "animals.values()"
   ]
  },
  {
   "cell_type": "code",
   "execution_count": 108,
   "id": "5c953038-6426-4a13-8663-80b2197fe424",
   "metadata": {},
   "outputs": [
    {
     "data": {
      "text/plain": [
       "['Dog', 'Cat', 'Human']"
      ]
     },
     "execution_count": 108,
     "metadata": {},
     "output_type": "execute_result"
    }
   ],
   "source": [
    "list(animals.keys())"
   ]
  },
  {
   "cell_type": "code",
   "execution_count": 109,
   "id": "e8d9abb8-722f-43a8-8700-97a2af85615d",
   "metadata": {},
   "outputs": [
    {
     "data": {
      "text/plain": [
       "'Not Found Key'"
      ]
     },
     "execution_count": 109,
     "metadata": {},
     "output_type": "execute_result"
    }
   ],
   "source": [
    "animals.get(\"Duck\",\"Not Found Key\")"
   ]
  },
  {
   "cell_type": "code",
   "execution_count": 110,
   "id": "7a254bcf-0fd6-4d84-9540-35886648b252",
   "metadata": {},
   "outputs": [
    {
     "name": "stdout",
     "output_type": "stream",
     "text": [
      "None\n"
     ]
    }
   ],
   "source": [
    "print(animals.get(\"Duck\"))"
   ]
  },
  {
   "cell_type": "code",
   "execution_count": 111,
   "id": "4dbfc7ad-e860-45a4-bee2-48f7b98e2249",
   "metadata": {},
   "outputs": [
    {
     "data": {
      "text/plain": [
       "3"
      ]
     },
     "execution_count": 111,
     "metadata": {},
     "output_type": "execute_result"
    }
   ],
   "source": [
    "len(animals)"
   ]
  },
  {
   "cell_type": "code",
   "execution_count": 112,
   "id": "98d35248-a936-493a-acd6-c120f5b94c11",
   "metadata": {},
   "outputs": [],
   "source": [
    "numbers = {\n",
    "    \"Even_Num\" : [2,4,6,8],\n",
    "    \"Odd_Num\" : [1,3,5,7],\n",
    "    \"Prime_Num\" :[2,3,5,7],\n",
    "}"
   ]
  },
  {
   "cell_type": "code",
   "execution_count": 113,
   "id": "a8681642-0504-452f-81f4-1c49e1f44c57",
   "metadata": {},
   "outputs": [
    {
     "data": {
      "text/plain": [
       "{'Even_Num': [2, 4, 6, 8, 10],\n",
       " 'Odd_Num': [1, 3, 5, 7],\n",
       " 'Prime_Num': [2, 3, 5, 7]}"
      ]
     },
     "execution_count": 113,
     "metadata": {},
     "output_type": "execute_result"
    }
   ],
   "source": [
    "numbers[\"Even_Num\"].append(10)\n",
    "numbers"
   ]
  },
  {
   "cell_type": "markdown",
   "id": "2d06b62a-9d01-407b-8093-491f09082ed4",
   "metadata": {},
   "source": [
    "# Default Dict"
   ]
  },
  {
   "cell_type": "code",
   "execution_count": 114,
   "id": "627dc1af-8a40-4f64-9607-0c824252c397",
   "metadata": {},
   "outputs": [
    {
     "data": {
      "text/plain": [
       "defaultdict(list, {'e': ['Elephant']})"
      ]
     },
     "execution_count": 114,
     "metadata": {},
     "output_type": "execute_result"
    }
   ],
   "source": [
    "from collections import defaultdict\n",
    "animals = defaultdict(list)\n",
    "animals['e'].append(\"Elephant\")\n",
    "animals"
   ]
  },
  {
   "cell_type": "code",
   "execution_count": 115,
   "id": "b0cfc6af-33d2-4c2c-8fea-3fb89432885c",
   "metadata": {},
   "outputs": [
    {
     "data": {
      "text/plain": [
       "[]"
      ]
     },
     "execution_count": 115,
     "metadata": {},
     "output_type": "execute_result"
    }
   ],
   "source": [
    "animals['f']"
   ]
  },
  {
   "cell_type": "markdown",
   "id": "7bf11279-7109-4745-8224-2b10a01ca10c",
   "metadata": {},
   "source": [
    "# List Comprehensions"
   ]
  },
  {
   "cell_type": "code",
   "execution_count": 116,
   "id": "d530e413-ce27-4eb5-9049-447d379c280f",
   "metadata": {},
   "outputs": [
    {
     "name": "stdout",
     "output_type": "stream",
     "text": [
      "[1, 4, 9, 16, 25]\n"
     ]
    }
   ],
   "source": [
    "L = [1,2,3,4,5]\n",
    "Squares = [num * num for num in L]\n",
    "print(Squares)"
   ]
  },
  {
   "cell_type": "code",
   "execution_count": 117,
   "id": "ddbd5251-da11-4f58-95e7-1d8b4260c841",
   "metadata": {},
   "outputs": [
    {
     "name": "stdout",
     "output_type": "stream",
     "text": [
      "[0, 10, 20, 30, 40, 50, 60, 70, 80, 90]\n"
     ]
    }
   ],
   "source": [
    "myList = list(range(100))\n",
    "filtered_list = [item for item in myList if item % 10 == 0]\n",
    "print(filtered_list)"
   ]
  },
  {
   "cell_type": "code",
   "execution_count": 118,
   "id": "6c8add80-4fe6-490b-b125-8d781f89bc4a",
   "metadata": {},
   "outputs": [
    {
     "data": {
      "text/plain": [
       "['My', 'Name', 'is', 'Manideep.', 'I', 'am', 'DevOps', 'Engineer']"
      ]
     },
     "execution_count": 118,
     "metadata": {},
     "output_type": "execute_result"
    }
   ],
   "source": [
    "myString = \"My Name is Manideep. I am DevOps Engineer\"\n",
    "myString.split()"
   ]
  },
  {
   "cell_type": "code",
   "execution_count": 119,
   "id": "8115160f-ed5f-42ca-8719-b39d3d49f806",
   "metadata": {},
   "outputs": [
    {
     "data": {
      "text/plain": [
       "['My Name is Manideep', ' I am DevOps Engineer']"
      ]
     },
     "execution_count": 119,
     "metadata": {},
     "output_type": "execute_result"
    }
   ],
   "source": [
    "myString.split(\".\")"
   ]
  },
  {
   "cell_type": "code",
   "execution_count": 120,
   "id": "2d8f4c4e-1742-4026-81a7-9cdb1534ed29",
   "metadata": {},
   "outputs": [
    {
     "data": {
      "text/plain": [
       "['my', 'name', 'is', 'manideep', 'i', 'am', 'devops', 'engineer']"
      ]
     },
     "execution_count": 120,
     "metadata": {},
     "output_type": "execute_result"
    }
   ],
   "source": [
    "def cleanWord(String):\n",
    "    return String.replace(\".\",\"\").lower() #Chaining Functions\n",
    "[cleanWord(word) for word in myString.split()]"
   ]
  },
  {
   "cell_type": "code",
   "execution_count": 121,
   "id": "8a985c0d-6c27-42d3-adbf-def9b5560c27",
   "metadata": {},
   "outputs": [
    {
     "data": {
      "text/plain": [
       "[['my', 'name', 'is', 'manideep'], ['i', 'am', 'devops', 'engineer']]"
      ]
     },
     "execution_count": 121,
     "metadata": {},
     "output_type": "execute_result"
    }
   ],
   "source": [
    "[[cleanWord(word) for word in sentence.split()] for sentence in myString.split(\".\")]"
   ]
  },
  {
   "cell_type": "markdown",
   "id": "e5898c67-0594-4f04-8fcd-bbcd0ae7d51c",
   "metadata": {},
   "source": [
    "# Dictionary Comprehensions"
   ]
  },
  {
   "cell_type": "code",
   "execution_count": 122,
   "id": "c2725569-5b5e-47b8-86b9-f73acc091fa8",
   "metadata": {},
   "outputs": [
    {
     "data": {
      "text/plain": [
       "[('A', 'Antelope'), ('B', 'Bear'), ('C', 'Cat'), ('D', 'Dog')]"
      ]
     },
     "execution_count": 122,
     "metadata": {},
     "output_type": "execute_result"
    }
   ],
   "source": [
    "animalsList = [(\"A\",\"Antelope\"),(\"B\",\"Bear\"),(\"C\",\"Cat\"),(\"D\",\"Dog\")]\n",
    "animalsList"
   ]
  },
  {
   "cell_type": "code",
   "execution_count": 123,
   "id": "71f0cd1f-9ce7-48e0-8a9e-95412541b37e",
   "metadata": {},
   "outputs": [
    {
     "name": "stdout",
     "output_type": "stream",
     "text": [
      "{'A': 'Antelope', 'B': 'Bear', 'C': 'Cat', 'D': 'Dog'}\n"
     ]
    }
   ],
   "source": [
    "animalsDict = {animal[0]:animal[1] for animal in animalsList}\n",
    "print(animalsDict)"
   ]
  },
  {
   "cell_type": "code",
   "execution_count": 124,
   "id": "610a2fca-39f7-49be-b0a4-3f7e3f43d455",
   "metadata": {},
   "outputs": [
    {
     "data": {
      "text/plain": [
       "{'A': 'Antelope', 'B': 'Bear', 'C': 'Cat', 'D': 'Dog'}"
      ]
     },
     "execution_count": 124,
     "metadata": {},
     "output_type": "execute_result"
    }
   ],
   "source": [
    "animalsDict = {key:value for key,value in animalsList}\n",
    "animalsDict"
   ]
  },
  {
   "cell_type": "code",
   "execution_count": 125,
   "id": "879cca1d-bf28-44ec-b244-2b9ef7aa41b8",
   "metadata": {},
   "outputs": [
    {
     "data": {
      "text/plain": [
       "dict_items([('A', 'Antelope'), ('B', 'Bear'), ('C', 'Cat'), ('D', 'Dog')])"
      ]
     },
     "execution_count": 125,
     "metadata": {},
     "output_type": "execute_result"
    }
   ],
   "source": [
    "animalsDict.items()"
   ]
  },
  {
   "cell_type": "code",
   "execution_count": 126,
   "id": "00e36c70-58df-4e5e-8c1b-3fd33be69165",
   "metadata": {},
   "outputs": [
    {
     "data": {
      "text/plain": [
       "[('A', 'Antelope'), ('B', 'Bear'), ('C', 'Cat'), ('D', 'Dog')]"
      ]
     },
     "execution_count": 126,
     "metadata": {},
     "output_type": "execute_result"
    }
   ],
   "source": [
    "[(key,value) for key,value in animalsDict.items()]"
   ]
  },
  {
   "cell_type": "markdown",
   "id": "7339e47c-6846-46e6-9343-5615255c2b47",
   "metadata": {},
   "source": [
    "# ASCII Art Encoding & Decoding"
   ]
  },
  {
   "cell_type": "code",
   "execution_count": 127,
   "id": "0e368c6a-f5ef-4c55-a6be-7e83ae4cf91c",
   "metadata": {},
   "outputs": [],
   "source": [
    "# Python code\n",
    "#Ex: Encode AAAAABBBAAA ==> [(A,5),(B,3),(A,3)]\n",
    "#Ex: Decode [(W,5),(1,2),(G,3)] ==> WWWWW11GGG\n",
    "def encodeString(stringVal):\n",
    "    # Your code goes here.\n",
    "    encoded_list = []\n",
    "    temp_val = 0\n",
    "    for index in range(len(stringVal)):\n",
    "        if index != len(stringVal)-1 and stringVal[index] ==  stringVal[index+1]:\n",
    "            temp_val += 1\n",
    "        else:\n",
    "            encoded_list.append((stringVal[index],temp_val+1))\n",
    "            temp_val = 0\n",
    "    return encoded_list\n",
    "        \n",
    "def decodeString(encodedList):\n",
    "    # Your code goes here.\n",
    "    return \"\".join([each_pattern[0] * each_pattern[1] for each_pattern in encodedList])\n"
   ]
  }
 ],
 "metadata": {
  "kernelspec": {
   "display_name": "Python 3 (ipykernel)",
   "language": "python",
   "name": "python3"
  },
  "language_info": {
   "codemirror_mode": {
    "name": "ipython",
    "version": 3
   },
   "file_extension": ".py",
   "mimetype": "text/x-python",
   "name": "python",
   "nbconvert_exporter": "python",
   "pygments_lexer": "ipython3",
   "version": "3.13.1"
  }
 },
 "nbformat": 4,
 "nbformat_minor": 5
}

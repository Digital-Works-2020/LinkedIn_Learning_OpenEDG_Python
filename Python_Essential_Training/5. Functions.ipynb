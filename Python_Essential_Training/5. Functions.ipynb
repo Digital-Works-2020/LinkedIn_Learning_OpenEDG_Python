{
 "cells": [
  {
   "cell_type": "markdown",
   "id": "5a9a034a-7dea-4a4f-810f-9992f7d7efa3",
   "metadata": {},
   "source": [
    "# Functions"
   ]
  },
  {
   "cell_type": "code",
   "execution_count": 1,
   "id": "da852443-559a-4cac-b281-54deda658327",
   "metadata": {},
   "outputs": [
    {
     "name": "stdout",
     "output_type": "stream",
     "text": [
      "5\n",
      "6\n"
     ]
    }
   ],
   "source": [
    "def performOperation(a,b,operation):\n",
    "    if operation == \"sum\":\n",
    "        return a+b\n",
    "    if operation == \"multiply\":\n",
    "        return a * b\n",
    "print(performOperation(2,3,\"sum\"))\n",
    "print(performOperation(2,3,\"multiply\"))"
   ]
  },
  {
   "cell_type": "markdown",
   "id": "795901ef-32aa-4d21-963a-eb116e601dff",
   "metadata": {},
   "source": [
    "# Named Parameters"
   ]
  },
  {
   "cell_type": "code",
   "execution_count": 2,
   "id": "ff34acc6-05d9-442f-9ce1-6b28d03e7cd3",
   "metadata": {},
   "outputs": [
    {
     "name": "stdout",
     "output_type": "stream",
     "text": [
      "5\n",
      "6\n",
      "8\n"
     ]
    }
   ],
   "source": [
    "def performOperation(a,b,operation=\"sum\"):\n",
    "    if operation == \"sum\":\n",
    "        return a+b\n",
    "    if operation == \"multiply\":\n",
    "        return a * b\n",
    "print(performOperation(2,3))\n",
    "print(performOperation(2,3,\"multiply\"))\n",
    "print(performOperation(2,4,operation=\"multiply\"))"
   ]
  },
  {
   "cell_type": "code",
   "execution_count": 3,
   "id": "77124530-1ff2-4427-930f-f46cfecf5407",
   "metadata": {},
   "outputs": [
    {
     "name": "stdout",
     "output_type": "stream",
     "text": [
      "Hello!! I am an function\n",
      "5\n",
      "Hello!! I am an function\n",
      "6\n",
      "I am doing multiply\n",
      "6\n",
      "I am doing sum\n",
      "5\n"
     ]
    }
   ],
   "source": [
    "def performOperation(a,b,operation=\"sum\",message=\"Hello!! I am an function\"):\n",
    "    print(message)\n",
    "    if operation == \"sum\":\n",
    "        return a+b\n",
    "    if operation == \"multiply\":\n",
    "        return a * b\n",
    "print(performOperation(2,3))\n",
    "print(performOperation(2,3,\"multiply\"))\n",
    "print(performOperation(2,3,message=\"I am doing multiply\",operation=\"multiply\"))\n",
    "print(performOperation(2,3,message=\"I am doing sum\"))"
   ]
  },
  {
   "cell_type": "markdown",
   "id": "e219eccb-2864-4f44-95fd-6c0b1995cea8",
   "metadata": {},
   "source": [
    "### Note:\n",
    "- Keyword arguments must come after positional arguments\n",
    "- Keyword arguments can be in any order"
   ]
  },
  {
   "cell_type": "markdown",
   "id": "c0fd4e24-0a67-4f92-bccf-01d9e58ee381",
   "metadata": {},
   "source": [
    "# *Args & **KWArgs"
   ]
  },
  {
   "cell_type": "code",
   "execution_count": 5,
   "id": "a4b73d59-cf89-4eee-9892-0d8342c56c0f",
   "metadata": {},
   "outputs": [
    {
     "name": "stdout",
     "output_type": "stream",
     "text": [
      "(1, 2, 3)\n",
      "(1, 2, 3, 4)\n"
     ]
    }
   ],
   "source": [
    "def printArgs(*args):\n",
    "    print(args)\n",
    "printArgs(1,2,3)\n",
    "printArgs(1,2,3,4)"
   ]
  },
  {
   "cell_type": "code",
   "execution_count": 6,
   "id": "48f13294-87d4-42b1-a989-d89e76798bac",
   "metadata": {},
   "outputs": [
    {
     "name": "stdout",
     "output_type": "stream",
     "text": [
      "{'operation': 'sum', 'data_type': 'numbers'}\n"
     ]
    }
   ],
   "source": [
    "def printArgs(**kwargs):\n",
    "    print(kwargs)\n",
    "printArgs(operation = \"sum\",data_type =\"numbers\")"
   ]
  },
  {
   "cell_type": "markdown",
   "id": "5fc6b601-760b-4037-ad69-560d09b3d37e",
   "metadata": {},
   "source": [
    "# Perform Operations using Args"
   ]
  },
  {
   "cell_type": "code",
   "execution_count": 7,
   "id": "ab8de118-e2c4-4a07-9ffe-f61cfc7341d9",
   "metadata": {},
   "outputs": [
    {
     "name": "stdout",
     "output_type": "stream",
     "text": [
      "24\n",
      "9\n"
     ]
    }
   ],
   "source": [
    "import math\n",
    "def performOperation(*args,**kwargs):\n",
    "    if kwargs[\"operation\"] == \"sum\":\n",
    "        return sum(args) \n",
    "    if kwargs[\"operation\"] == \"multiply\":\n",
    "        return math.prod(args)\n",
    "print(performOperation(2,3,4,operation=\"multiply\"))\n",
    "print(performOperation(2,3,4,operation=\"sum\"))"
   ]
  },
  {
   "cell_type": "markdown",
   "id": "b25b6184-2384-416e-a999-9b8fb90b1ee4",
   "metadata": {},
   "source": [
    "# Locals"
   ]
  },
  {
   "cell_type": "code",
   "execution_count": 8,
   "id": "ed91753c-9356-40a4-a8c8-ac0fc5f15a7f",
   "metadata": {},
   "outputs": [
    {
     "name": "stdout",
     "output_type": "stream",
     "text": [
      "{'n1': 1, 'n2': 2, 'operation': 'sum'}\n"
     ]
    }
   ],
   "source": [
    "def printLocals(n1,n2,operation=\"sum\"):\n",
    "    print(locals())\n",
    "printLocals(1,2)"
   ]
  },
  {
   "cell_type": "markdown",
   "id": "e270bb2d-ca75-42dc-aa2a-7eacf5f06eb9",
   "metadata": {},
   "source": [
    "# Globals"
   ]
  },
  {
   "cell_type": "code",
   "execution_count": null,
   "id": "d353285e-9954-4721-bd69-3ebdb1c0d123",
   "metadata": {},
   "outputs": [],
   "source": [
    "globals() #Lists available global variables"
   ]
  },
  {
   "cell_type": "code",
   "execution_count": 15,
   "id": "000d1cb7-e9b0-4878-b295-9654e07858b3",
   "metadata": {},
   "outputs": [
    {
     "name": "stdout",
     "output_type": "stream",
     "text": [
      "Local Message\n",
      "{'a': 50, 'b': 2, 'message': 'Local Message'}\n",
      "Global Message\n",
      "{'a': 3, 'c': 4}\n"
     ]
    }
   ],
   "source": [
    "message = \"Global Message\"\n",
    "\n",
    "def fun1(a,b):\n",
    "    message = \"Local Message\"\n",
    "    a = 50\n",
    "    print(message)\n",
    "    print(locals())\n",
    "\n",
    "def fun2(a,c):\n",
    "    print(message)\n",
    "    print(locals())\n",
    "\n",
    "fun1(1,2)\n",
    "fun2(3,4)"
   ]
  },
  {
   "cell_type": "code",
   "execution_count": 16,
   "id": "05c1a839-045a-459b-824d-eaa54ecb941f",
   "metadata": {},
   "outputs": [
    {
     "name": "stdout",
     "output_type": "stream",
     "text": [
      "Inner Func Local Scope:{'a': 100, 'b': 200}\n",
      "{'a': 300, 'b': 400, 'inner_fun': <function fun1.<locals>.inner_fun at 0x105bd36a0>}\n"
     ]
    }
   ],
   "source": [
    "def fun1(a,b):\n",
    "    \n",
    "    def inner_fun(a,b):\n",
    "        print(f\"Inner Func Local Scope:{locals()}\")\n",
    "    inner_fun(100,200)\n",
    "    print(locals())\n",
    "fun1(300,400)"
   ]
  },
  {
   "cell_type": "markdown",
   "id": "e6f9f833-8bfc-4fa1-a2b5-cf34944742bb",
   "metadata": {},
   "source": [
    "# Vairables as Functions"
   ]
  },
  {
   "cell_type": "code",
   "execution_count": 19,
   "id": "1fba56ba-0093-4a35-a79c-fd6040fbcefd",
   "metadata": {},
   "outputs": [
    {
     "name": "stdout",
     "output_type": "stream",
     "text": [
      "()\n",
      "b'\\x95\\x00g\\x01'\n"
     ]
    }
   ],
   "source": [
    "def sample():\n",
    "    return 5\n",
    "\n",
    "print(sample.__code__.co_varnames)\n",
    "print(sample.__code__.co_code)"
   ]
  },
  {
   "cell_type": "markdown",
   "id": "68b70840-d0fe-4df2-8428-79b943b6c61d",
   "metadata": {},
   "source": [
    "# Lambda Functions"
   ]
  },
  {
   "cell_type": "code",
   "execution_count": 20,
   "id": "1a86e9cf-b09c-484c-adde-604b4ba8c52a",
   "metadata": {},
   "outputs": [
    {
     "data": {
      "text/plain": [
       "20"
      ]
     },
     "execution_count": 20,
     "metadata": {},
     "output_type": "execute_result"
    }
   ],
   "source": [
    "(lambda x: x + 10)(10)"
   ]
  },
  {
   "cell_type": "code",
   "execution_count": 21,
   "id": "4bcaaf0a-a661-4f06-bf2c-9c8dcb56de3a",
   "metadata": {},
   "outputs": [
    {
     "data": {
      "text/plain": [
       "[{'num': 1}, {'num': 2}, {'num': 4}]"
      ]
     },
     "execution_count": 21,
     "metadata": {},
     "output_type": "execute_result"
    }
   ],
   "source": [
    "L = [{\"num\":1},{\"num\":4},{\"num\":2}]\n",
    "sorted(L,key = lambda x : x['num'])"
   ]
  }
 ],
 "metadata": {
  "kernelspec": {
   "display_name": "Python 3 (ipykernel)",
   "language": "python",
   "name": "python3"
  },
  "language_info": {
   "codemirror_mode": {
    "name": "ipython",
    "version": 3
   },
   "file_extension": ".py",
   "mimetype": "text/x-python",
   "name": "python",
   "nbconvert_exporter": "python",
   "pygments_lexer": "ipython3",
   "version": "3.13.1"
  }
 },
 "nbformat": 4,
 "nbformat_minor": 5
}

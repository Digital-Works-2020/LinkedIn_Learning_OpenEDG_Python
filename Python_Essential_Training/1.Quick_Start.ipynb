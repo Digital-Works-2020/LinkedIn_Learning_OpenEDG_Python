{
 "cells": [
  {
   "cell_type": "markdown",
   "id": "ad219833-978b-4075-b88a-6a916fa16a3d",
   "metadata": {},
   "source": [
    "# Gearing Up for Python"
   ]
  },
  {
   "cell_type": "code",
   "execution_count": 3,
   "id": "a29dce0e-c52f-4c93-8735-c717bf980bcb",
   "metadata": {},
   "outputs": [
    {
     "name": "stdout",
     "output_type": "stream",
     "text": [
      "Hello World\n"
     ]
    }
   ],
   "source": [
    "print(\"Hello World\")"
   ]
  },
  {
   "cell_type": "markdown",
   "id": "b388b8fb-f5d1-48fe-8fe8-dbc51245c100",
   "metadata": {},
   "source": [
    "# QuickStart"
   ]
  },
  {
   "cell_type": "code",
   "execution_count": 4,
   "id": "980a77c9-ce45-42f1-b231-f4f2e4fa8aa4",
   "metadata": {},
   "outputs": [
    {
     "name": "stdout",
     "output_type": "stream",
     "text": [
      "5\n"
     ]
    }
   ],
   "source": [
    "# Define a Variable\n",
    "x = 5 \n",
    "print(x)"
   ]
  },
  {
   "cell_type": "code",
   "execution_count": 8,
   "id": "395b9487-9ea8-4a7a-9d73-1c63f452ee32",
   "metadata": {},
   "outputs": [
    {
     "data": {
      "text/plain": [
       "int"
      ]
     },
     "execution_count": 8,
     "metadata": {},
     "output_type": "execute_result"
    }
   ],
   "source": [
    "#Getting Data type of variable\n",
    "type(x)"
   ]
  },
  {
   "cell_type": "code",
   "execution_count": 10,
   "id": "4317fae8-0b71-47d7-bf23-cf94a3d07997",
   "metadata": {},
   "outputs": [
    {
     "data": {
      "text/plain": [
       "float"
      ]
     },
     "execution_count": 10,
     "metadata": {},
     "output_type": "execute_result"
    }
   ],
   "source": [
    "#Floating Point Numbers\n",
    "type(1.5)"
   ]
  },
  {
   "cell_type": "code",
   "execution_count": 11,
   "id": "d844d0fa-1d00-416b-8c57-c77d14e4f785",
   "metadata": {},
   "outputs": [
    {
     "data": {
      "text/plain": [
       "complex"
      ]
     },
     "execution_count": 11,
     "metadata": {},
     "output_type": "execute_result"
    }
   ],
   "source": [
    "#Complex Numbers\n",
    "type(2j)"
   ]
  },
  {
   "cell_type": "code",
   "execution_count": 22,
   "id": "e5db9166-cf14-4073-b34a-268b9536c9c3",
   "metadata": {},
   "outputs": [
    {
     "name": "stdout",
     "output_type": "stream",
     "text": [
      "String 1String 2\n",
      "11\n"
     ]
    }
   ],
   "source": [
    "#Adding Strings\n",
    "print(\"String 1\" + \"String 2\") #String 1String 2\n",
    "print(\"1\" + \"1\") #11"
   ]
  },
  {
   "cell_type": "code",
   "execution_count": 23,
   "id": "76a5cb15-f0e6-4063-8d55-83b719d29ea1",
   "metadata": {},
   "outputs": [
    {
     "name": "stdout",
     "output_type": "stream",
     "text": [
      "True\n",
      "False\n"
     ]
    }
   ],
   "source": [
    "#Booleans\n",
    "print(1 == 1) #True\n",
    "print(2 == 3) #False"
   ]
  },
  {
   "cell_type": "code",
   "execution_count": 24,
   "id": "fc2df8c6-57b4-4fa7-a24c-10058967be13",
   "metadata": {},
   "outputs": [
    {
     "name": "stdout",
     "output_type": "stream",
     "text": [
      "3\n",
      "4\n"
     ]
    }
   ],
   "source": [
    "#Lists\n",
    "L = [1,2,3] #Simple List of Numbers\n",
    "L1 = [1,\"String\",True,[1,2,3]] #List of Mixed Data types\n",
    "print(len(L)) #3 - Length of List L\n",
    "print(len(L1)) #4 - Length of List L1"
   ]
  },
  {
   "cell_type": "code",
   "execution_count": 26,
   "id": "0742c725-5e6c-4f77-a4ca-7e60ffcdd58c",
   "metadata": {},
   "outputs": [
    {
     "name": "stdout",
     "output_type": "stream",
     "text": [
      "<class 'set'>\n",
      "3\n",
      "{1, 2}\n",
      "2\n",
      "True\n"
     ]
    }
   ],
   "source": [
    "#Sets\n",
    "Set = {1,2,3}\n",
    "print(type(Set)) # class set\n",
    "print(len(Set)) #3\n",
    "Set1 = {1,1,2,2}\n",
    "print(Set1) #{1,2}\n",
    "print(len(Set1)) #2 - Length of Set1\n",
    "print({1,2} == {2,1}) #True - Order of elements in Set does not matter"
   ]
  },
  {
   "cell_type": "code",
   "execution_count": 28,
   "id": "0d08493c-a753-46ef-b7b9-b6312d860581",
   "metadata": {},
   "outputs": [
    {
     "name": "stdout",
     "output_type": "stream",
     "text": [
      "3\n"
     ]
    }
   ],
   "source": [
    "#Tuples\n",
    "Tuple = (1,2,3)\n",
    "print(len(Tuple)) #3 - Length of Tuple. Cannot modify tuple once declared. Order of element matters in List & Tuple"
   ]
  },
  {
   "cell_type": "code",
   "execution_count": 31,
   "id": "948d686a-05c7-44f5-a417-0d17d7d951e2",
   "metadata": {},
   "outputs": [
    {
     "name": "stdout",
     "output_type": "stream",
     "text": [
      "Red Fruit\n"
     ]
    }
   ],
   "source": [
    "#Dictionaries\n",
    "dictionary = {\n",
    "   'apple' :\"Red Fruit\",\n",
    "   'banana' : \"Yellow Fruit\"\n",
    "}\n",
    "print(dictionary[\"apple\"]) #Red Fruit"
   ]
  },
  {
   "cell_type": "markdown",
   "id": "bb020595-7272-4fc6-9c0e-b014c20a00da",
   "metadata": {},
   "source": [
    "# Tuples, Sets & Dicitonaries\n",
    "- Tuples are Memory Efficient\n",
    "- Ex: Storing x,y co-ordinate pairs\n",
    "- Sets have unique values, Dictionary have unique keys"
   ]
  },
  {
   "cell_type": "markdown",
   "id": "a7197ef5-34cc-4322-a0a8-bb338b864f6f",
   "metadata": {},
   "source": [
    "# Arithmetic Operators"
   ]
  },
  {
   "cell_type": "code",
   "execution_count": 32,
   "id": "43564e5e-1208-4579-8750-d94f623f5cd9",
   "metadata": {},
   "outputs": [
    {
     "data": {
      "text/plain": [
       "2"
      ]
     },
     "execution_count": 32,
     "metadata": {},
     "output_type": "execute_result"
    }
   ],
   "source": [
    "1 + 1"
   ]
  },
  {
   "cell_type": "code",
   "execution_count": 33,
   "id": "f729cd85-3967-47af-8429-d28ffa23fd01",
   "metadata": {},
   "outputs": [
    {
     "data": {
      "text/plain": [
       "20"
      ]
     },
     "execution_count": 33,
     "metadata": {},
     "output_type": "execute_result"
    }
   ],
   "source": [
    "4 * 5"
   ]
  },
  {
   "cell_type": "code",
   "execution_count": 34,
   "id": "8e59e52e-16fb-47fa-874c-0c01860e89c0",
   "metadata": {},
   "outputs": [
    {
     "data": {
      "text/plain": [
       "25"
      ]
     },
     "execution_count": 34,
     "metadata": {},
     "output_type": "execute_result"
    }
   ],
   "source": [
    "5 ** 2 #Exponent"
   ]
  },
  {
   "cell_type": "code",
   "execution_count": 35,
   "id": "b97ea042-9622-469d-965e-6c8750194507",
   "metadata": {},
   "outputs": [
    {
     "data": {
      "text/plain": [
       "4.0"
      ]
     },
     "execution_count": 35,
     "metadata": {},
     "output_type": "execute_result"
    }
   ],
   "source": [
    "20 / 5"
   ]
  },
  {
   "cell_type": "code",
   "execution_count": 36,
   "id": "72f36930-6087-4cf1-a9ca-c5eead3d84b4",
   "metadata": {},
   "outputs": [
    {
     "data": {
      "text/plain": [
       "2"
      ]
     },
     "execution_count": 36,
     "metadata": {},
     "output_type": "execute_result"
    }
   ],
   "source": [
    "20 % 6 #Gives Remainder"
   ]
  },
  {
   "cell_type": "markdown",
   "id": "26e4f9ef-2bbb-46c5-83c1-6a671e81330c",
   "metadata": {},
   "source": [
    "# Arithmetic Operators with Strings"
   ]
  },
  {
   "cell_type": "code",
   "execution_count": 37,
   "id": "6a78e347-e561-42e2-bd55-ddaa62c22adb",
   "metadata": {},
   "outputs": [
    {
     "data": {
      "text/plain": [
       "'String1String 2'"
      ]
     },
     "execution_count": 37,
     "metadata": {},
     "output_type": "execute_result"
    }
   ],
   "source": [
    "'String1' + 'String 2'"
   ]
  },
  {
   "cell_type": "code",
   "execution_count": 38,
   "id": "abb20e75-2ec4-46c7-8b3f-9dcfb7214e60",
   "metadata": {},
   "outputs": [
    {
     "data": {
      "text/plain": [
       "'String1String1String1String1'"
      ]
     },
     "execution_count": 38,
     "metadata": {},
     "output_type": "execute_result"
    }
   ],
   "source": [
    "'String1' * 4"
   ]
  },
  {
   "cell_type": "markdown",
   "id": "9f256f9b-a038-4c60-826f-dc8b39b6e5b9",
   "metadata": {},
   "source": [
    "# Comparision Operators"
   ]
  },
  {
   "cell_type": "code",
   "execution_count": 40,
   "id": "ef08b809-3fe7-4db4-b4bc-95db503e3cbb",
   "metadata": {},
   "outputs": [
    {
     "data": {
      "text/plain": [
       "True"
      ]
     },
     "execution_count": 40,
     "metadata": {},
     "output_type": "execute_result"
    }
   ],
   "source": [
    "False == False #Comparision Operator"
   ]
  },
  {
   "cell_type": "code",
   "execution_count": 41,
   "id": "9c39d6b9-ab27-45e7-aa20-9e194b8da35d",
   "metadata": {},
   "outputs": [
    {
     "data": {
      "text/plain": [
       "True"
      ]
     },
     "execution_count": 41,
     "metadata": {},
     "output_type": "execute_result"
    }
   ],
   "source": [
    " 5 < 6"
   ]
  },
  {
   "cell_type": "code",
   "execution_count": 42,
   "id": "baf43d50-0a9a-4867-82c5-c5f4cb637688",
   "metadata": {},
   "outputs": [
    {
     "data": {
      "text/plain": [
       "True"
      ]
     },
     "execution_count": 42,
     "metadata": {},
     "output_type": "execute_result"
    }
   ],
   "source": [
    "10 >= 10"
   ]
  },
  {
   "cell_type": "markdown",
   "id": "1af5f21b-b3aa-4528-834e-7cebf9095c25",
   "metadata": {},
   "source": [
    "# Logical Operators"
   ]
  },
  {
   "cell_type": "code",
   "execution_count": 43,
   "id": "8f241610-8b4a-4127-ba55-e562d607a041",
   "metadata": {},
   "outputs": [
    {
     "data": {
      "text/plain": [
       "True"
      ]
     },
     "execution_count": 43,
     "metadata": {},
     "output_type": "execute_result"
    }
   ],
   "source": [
    "5 < 10 and 5 > 1"
   ]
  },
  {
   "cell_type": "code",
   "execution_count": 44,
   "id": "4e275dcf-9bf9-4873-9c90-67924240f457",
   "metadata": {},
   "outputs": [
    {
     "data": {
      "text/plain": [
       "True"
      ]
     },
     "execution_count": 44,
     "metadata": {},
     "output_type": "execute_result"
    }
   ],
   "source": [
    "False or True"
   ]
  },
  {
   "cell_type": "code",
   "execution_count": 45,
   "id": "383fc6fd-b02c-4fcc-b36a-0801fde8ee7f",
   "metadata": {},
   "outputs": [
    {
     "data": {
      "text/plain": [
       "False"
      ]
     },
     "execution_count": 45,
     "metadata": {},
     "output_type": "execute_result"
    }
   ],
   "source": [
    "not True"
   ]
  },
  {
   "cell_type": "code",
   "execution_count": 46,
   "id": "4c515e11-a264-4ab8-8a2d-677e83a9e3c0",
   "metadata": {},
   "outputs": [
    {
     "data": {
      "text/plain": [
       "True"
      ]
     },
     "execution_count": 46,
     "metadata": {},
     "output_type": "execute_result"
    }
   ],
   "source": [
    "not False"
   ]
  },
  {
   "cell_type": "markdown",
   "id": "0d3415e3-6eb9-4d3b-ac58-0cc215c0c80d",
   "metadata": {},
   "source": [
    "# Membership Operators"
   ]
  },
  {
   "cell_type": "code",
   "execution_count": 47,
   "id": "ce4b9f59-d40a-4b60-a841-a26c77a68489",
   "metadata": {},
   "outputs": [
    {
     "data": {
      "text/plain": [
       "True"
      ]
     },
     "execution_count": 47,
     "metadata": {},
     "output_type": "execute_result"
    }
   ],
   "source": [
    "1 in [5,6,1]"
   ]
  },
  {
   "cell_type": "code",
   "execution_count": 48,
   "id": "b51bf661-ced9-4669-8bae-f4d480793b95",
   "metadata": {},
   "outputs": [
    {
     "data": {
      "text/plain": [
       "False"
      ]
     },
     "execution_count": 48,
     "metadata": {},
     "output_type": "execute_result"
    }
   ],
   "source": [
    "10 in [5,4,3,2,1]"
   ]
  },
  {
   "cell_type": "code",
   "execution_count": 49,
   "id": "e02c6318-370f-47b8-b288-1de19dcd852c",
   "metadata": {},
   "outputs": [
    {
     "data": {
      "text/plain": [
       "True"
      ]
     },
     "execution_count": 49,
     "metadata": {},
     "output_type": "execute_result"
    }
   ],
   "source": [
    "11 not in [1,2,3,4,5]"
   ]
  },
  {
   "cell_type": "code",
   "execution_count": 50,
   "id": "46b5ab63-e456-4c7f-bf82-d95545d8a22a",
   "metadata": {},
   "outputs": [
    {
     "data": {
      "text/plain": [
       "True"
      ]
     },
     "execution_count": 50,
     "metadata": {},
     "output_type": "execute_result"
    }
   ],
   "source": [
    "'Apple' in \"Apples is a Red Fruit\""
   ]
  },
  {
   "cell_type": "markdown",
   "id": "7f7125ef-6f97-4561-9101-b2c34928941b",
   "metadata": {},
   "source": [
    "# Control Flow - If / Else"
   ]
  },
  {
   "cell_type": "code",
   "execution_count": 51,
   "id": "dea93222-ffb6-4883-be7e-073ac7fc20d7",
   "metadata": {},
   "outputs": [
    {
     "name": "stdout",
     "output_type": "stream",
     "text": [
      "4 is Even\n"
     ]
    }
   ],
   "source": [
    "if  4 % 2 == 0:\n",
    "    print(\"4 is Even\")"
   ]
  },
  {
   "cell_type": "code",
   "execution_count": 52,
   "id": "c86fb707-b8ee-4f0e-9b17-94107410153e",
   "metadata": {},
   "outputs": [
    {
     "name": "stdout",
     "output_type": "stream",
     "text": [
      "5 is odd\n"
     ]
    }
   ],
   "source": [
    "if  5 % 2 == 0:\n",
    "    print(\"5 is Even\")\n",
    "else:\n",
    "    print(\"5 is odd\")"
   ]
  },
  {
   "cell_type": "markdown",
   "id": "6dcd1d30-4f74-4cc2-92c1-b69dc73c03ae",
   "metadata": {},
   "source": [
    "# For Loops"
   ]
  },
  {
   "cell_type": "code",
   "execution_count": 54,
   "id": "3abea58a-e391-44a1-8349-018b9082f252",
   "metadata": {},
   "outputs": [
    {
     "name": "stdout",
     "output_type": "stream",
     "text": [
      "5\n",
      "4\n",
      "3\n",
      "2\n",
      "1\n"
     ]
    }
   ],
   "source": [
    "for item in [5,4,3,2,1]:\n",
    "    print(item)"
   ]
  },
  {
   "cell_type": "markdown",
   "id": "e4b85035-cced-4dc5-9c8d-a1677cf8c39e",
   "metadata": {},
   "source": [
    "# While Loops"
   ]
  },
  {
   "cell_type": "code",
   "execution_count": 63,
   "id": "91908000-173a-4015-bd4b-2587a38aaff2",
   "metadata": {},
   "outputs": [
    {
     "name": "stdout",
     "output_type": "stream",
     "text": [
      "5\n",
      "4\n",
      "3\n",
      "2\n",
      "1\n"
     ]
    }
   ],
   "source": [
    "a = 5\n",
    "while a > 0:\n",
    "    print(a)\n",
    "    a = a - 1"
   ]
  },
  {
   "cell_type": "markdown",
   "id": "27fd7011-470f-4c7d-9158-a86d275acb25",
   "metadata": {},
   "source": [
    "# Functions"
   ]
  },
  {
   "cell_type": "code",
   "execution_count": 64,
   "id": "c59bf809-4d54-4251-8a14-3eba677fd77b",
   "metadata": {},
   "outputs": [
    {
     "name": "stdout",
     "output_type": "stream",
     "text": [
      "9\n"
     ]
    }
   ],
   "source": [
    "def three_times(num):\n",
    "    return num * 3\n",
    "print(three_times(3))"
   ]
  },
  {
   "cell_type": "code",
   "execution_count": 66,
   "id": "c7c377aa-53d9-4fef-9526-79448dba1721",
   "metadata": {},
   "outputs": [
    {
     "name": "stdout",
     "output_type": "stream",
     "text": [
      "[1, 2, 3, 4]\n"
     ]
    }
   ],
   "source": [
    "L = [1,2,3]\n",
    "def append_list(inp_list):\n",
    "    inp_list.append(4)\n",
    "append_list(L)\n",
    "print(L)"
   ]
  },
  {
   "cell_type": "code",
   "execution_count": 67,
   "id": "3e81316d-52ce-4b66-abc5-0af1ae62494e",
   "metadata": {},
   "outputs": [
    {
     "data": {
      "text/plain": [
       "NoneType"
      ]
     },
     "execution_count": 67,
     "metadata": {},
     "output_type": "execute_result"
    }
   ],
   "source": [
    "type(None)"
   ]
  },
  {
   "cell_type": "markdown",
   "id": "d98a3093-80aa-4714-9d55-5ffa5d5cdf0f",
   "metadata": {},
   "source": [
    "# Classes"
   ]
  },
  {
   "cell_type": "code",
   "execution_count": 76,
   "id": "812bb0cc-e4f1-4047-abad-ea4d06f4e043",
   "metadata": {},
   "outputs": [
    {
     "name": "stdout",
     "output_type": "stream",
     "text": [
      "Tom says Bark\n",
      "Harry says Bark\n",
      "<class '__main__.Dog'>\n"
     ]
    }
   ],
   "source": [
    "class Dog: #Usually Class name start with Upper case letter\n",
    "    def __init__(self,name): #Initialization Function\n",
    "        self.name = name #Attributes\n",
    "        self.legs = 4\n",
    "    def speak(self): #Methods\n",
    "        print(self.name + \" says Bark\")\n",
    "my_dog = Dog(\"Tom\") #Objects\n",
    "my_dog.speak()\n",
    "another_dog = Dog(\"Harry\")\n",
    "another_dog.speak()\n",
    "print(type(my_dog))"
   ]
  },
  {
   "cell_type": "markdown",
   "id": "bf9a2f78-039b-4f61-ba76-4b8de7ac8793",
   "metadata": {},
   "source": [
    "# Factorial Challenge"
   ]
  },
  {
   "cell_type": "code",
   "execution_count": 72,
   "id": "721ed936-ec2f-4beb-9ccd-18805ff0cd87",
   "metadata": {},
   "outputs": [
    {
     "name": "stdout",
     "output_type": "stream",
     "text": [
      "120\n",
      "1\n",
      "None\n",
      "None\n",
      "None\n"
     ]
    }
   ],
   "source": [
    "def factorial(num):\n",
    "    if type(num) is not int:\n",
    "        return None\n",
    "    if num == 0:\n",
    "        return 1\n",
    "    if num < 0:\n",
    "        return\n",
    "    result = 1\n",
    "    for i in range(1,num+1):\n",
    "        result = result * i\n",
    "    return result\n",
    "print(factorial(5)) #120\n",
    "print(factorial(0)) #1\n",
    "print(factorial(-1)) #None\n",
    "print(factorial(1.2)) #None\n",
    "print(factorial(\"Spam\")) #None"
   ]
  },
  {
   "cell_type": "code",
   "execution_count": 75,
   "id": "70fa68de-a711-4196-947f-cd23ef78bc45",
   "metadata": {},
   "outputs": [
    {
     "name": "stdout",
     "output_type": "stream",
     "text": [
      "120\n",
      "1\n",
      "None\n",
      "None\n",
      "None\n"
     ]
    }
   ],
   "source": [
    "def rec_factorial(num):\n",
    "    if type(num) is not int:\n",
    "        return None\n",
    "    if num == 0 : return 1\n",
    "    else:\n",
    "        return num * rec_factorial(num-1)\n",
    "print(factorial(5)) #120\n",
    "print(factorial(0)) #1\n",
    "print(factorial(-1)) #None\n",
    "print(factorial(1.2)) #None\n",
    "print(factorial(\"Spam\")) #None"
   ]
  },
  {
   "cell_type": "code",
   "execution_count": null,
   "id": "25d94e93-bebc-44a6-a2c1-e3f5919b5997",
   "metadata": {},
   "outputs": [],
   "source": []
  }
 ],
 "metadata": {
  "kernelspec": {
   "display_name": "Python 3 (ipykernel)",
   "language": "python",
   "name": "python3"
  },
  "language_info": {
   "codemirror_mode": {
    "name": "ipython",
    "version": 3
   },
   "file_extension": ".py",
   "mimetype": "text/x-python",
   "name": "python",
   "nbconvert_exporter": "python",
   "pygments_lexer": "ipython3",
   "version": "3.13.1"
  }
 },
 "nbformat": 4,
 "nbformat_minor": 5
}

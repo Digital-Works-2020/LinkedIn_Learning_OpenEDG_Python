{
 "cells": [
  {
   "cell_type": "markdown",
   "id": "37ebdf02-e6c6-4ed5-97f6-d91dab1d87c8",
   "metadata": {},
   "source": [
    "# Ints & Floats"
   ]
  },
  {
   "cell_type": "code",
   "execution_count": 1,
   "id": "066e8fab-bc5f-41b0-b17a-a18f988b1362",
   "metadata": {},
   "outputs": [
    {
     "data": {
      "text/plain": [
       "5.0"
      ]
     },
     "execution_count": 1,
     "metadata": {},
     "output_type": "execute_result"
    }
   ],
   "source": [
    "20 / 4 #Return Float"
   ]
  },
  {
   "cell_type": "code",
   "execution_count": 2,
   "id": "6c74eea8-df85-41e0-b68d-29dd4dfca580",
   "metadata": {},
   "outputs": [
    {
     "data": {
      "text/plain": [
       "8.0"
      ]
     },
     "execution_count": 2,
     "metadata": {},
     "output_type": "execute_result"
    }
   ],
   "source": [
    "4 + 4.0 #Return Float"
   ]
  },
  {
   "cell_type": "code",
   "execution_count": 3,
   "id": "48fe8a2a-825b-4bac-9f90-c75bab12b869",
   "metadata": {},
   "outputs": [
    {
     "data": {
      "text/plain": [
       "20.0"
      ]
     },
     "execution_count": 3,
     "metadata": {},
     "output_type": "execute_result"
    }
   ],
   "source": [
    "5 * 4.0 #Return Float"
   ]
  },
  {
   "cell_type": "code",
   "execution_count": 4,
   "id": "8b415cf1-db2a-4d8d-b517-140af27f4355",
   "metadata": {},
   "outputs": [
    {
     "data": {
      "text/plain": [
       "256"
      ]
     },
     "execution_count": 4,
     "metadata": {},
     "output_type": "execute_result"
    }
   ],
   "source": [
    "int(4 ** 4) #Return Int"
   ]
  },
  {
   "cell_type": "code",
   "execution_count": 5,
   "id": "e0c10aec-5af0-44ea-8ff1-41b9d5689f5a",
   "metadata": {},
   "outputs": [
    {
     "data": {
      "text/plain": [
       "8"
      ]
     },
     "execution_count": 5,
     "metadata": {},
     "output_type": "execute_result"
    }
   ],
   "source": [
    "int(8.9)"
   ]
  },
  {
   "cell_type": "code",
   "execution_count": 6,
   "id": "a0c016b1-61fc-4d08-9ff4-b9cdb96d682c",
   "metadata": {},
   "outputs": [
    {
     "data": {
      "text/plain": [
       "5"
      ]
     },
     "execution_count": 6,
     "metadata": {},
     "output_type": "execute_result"
    }
   ],
   "source": [
    "round(14/3) #5"
   ]
  },
  {
   "cell_type": "code",
   "execution_count": 7,
   "id": "c7a552da-ba17-4e85-a0e2-fd23c626f010",
   "metadata": {},
   "outputs": [
    {
     "data": {
      "text/plain": [
       "4.67"
      ]
     },
     "execution_count": 7,
     "metadata": {},
     "output_type": "execute_result"
    }
   ],
   "source": [
    "round(14/3,2)"
   ]
  },
  {
   "cell_type": "code",
   "execution_count": 8,
   "id": "c4eaedb2-e161-4df5-99a3-f8af2995a15d",
   "metadata": {},
   "outputs": [
    {
     "data": {
      "text/plain": [
       "0.2"
      ]
     },
     "execution_count": 8,
     "metadata": {},
     "output_type": "execute_result"
    }
   ],
   "source": [
    "round(1.2 - 1.0,2)"
   ]
  },
  {
   "cell_type": "markdown",
   "id": "c50310a4-fe11-43f2-834f-656b7086b9da",
   "metadata": {},
   "source": [
    "# Integers"
   ]
  },
  {
   "cell_type": "code",
   "execution_count": 9,
   "id": "c94b5c4a-c820-4cf4-9ed9-cf138f2dc74a",
   "metadata": {},
   "outputs": [
    {
     "data": {
      "text/plain": [
       "100"
      ]
     },
     "execution_count": 9,
     "metadata": {},
     "output_type": "execute_result"
    }
   ],
   "source": [
    "int('100')"
   ]
  },
  {
   "cell_type": "code",
   "execution_count": 10,
   "id": "da9ca68d-c849-461c-a200-efd233b46e07",
   "metadata": {},
   "outputs": [
    {
     "data": {
      "text/plain": [
       "4"
      ]
     },
     "execution_count": 10,
     "metadata": {},
     "output_type": "execute_result"
    }
   ],
   "source": [
    "int('100',2) #100 with Base 2 ==> 4"
   ]
  },
  {
   "cell_type": "code",
   "execution_count": 11,
   "id": "b34913f4-5778-4fc6-b27f-e606654135ea",
   "metadata": {},
   "outputs": [
    {
     "data": {
      "text/plain": [
       "427"
      ]
     },
     "execution_count": 11,
     "metadata": {},
     "output_type": "execute_result"
    }
   ],
   "source": [
    "int('1ab',16) #Base 16 ==> 427"
   ]
  },
  {
   "cell_type": "markdown",
   "id": "f89fc119-1437-4454-978e-22e356d63785",
   "metadata": {},
   "source": [
    "# Decimals"
   ]
  },
  {
   "cell_type": "code",
   "execution_count": 12,
   "id": "83d22599-7c79-42c0-92cd-65088b23e2a0",
   "metadata": {},
   "outputs": [],
   "source": [
    "from decimal import Decimal, getcontext"
   ]
  },
  {
   "cell_type": "code",
   "execution_count": 13,
   "id": "c4998a1d-8664-4dd2-9b0c-a328f0d3d74b",
   "metadata": {},
   "outputs": [
    {
     "data": {
      "text/plain": [
       "Context(prec=28, rounding=ROUND_HALF_EVEN, Emin=-999999, Emax=999999, capitals=1, clamp=0, flags=[], traps=[InvalidOperation, DivisionByZero, Overflow])"
      ]
     },
     "execution_count": 13,
     "metadata": {},
     "output_type": "execute_result"
    }
   ],
   "source": [
    "getcontext()"
   ]
  },
  {
   "cell_type": "code",
   "execution_count": 14,
   "id": "a093d91c-8a4c-4fe4-86ef-ad23e3448906",
   "metadata": {},
   "outputs": [],
   "source": [
    "getcontext().prec = 4"
   ]
  },
  {
   "cell_type": "code",
   "execution_count": 15,
   "id": "e0b1d5a0-33bd-4e4d-bbf1-438bc037fddd",
   "metadata": {},
   "outputs": [
    {
     "data": {
      "text/plain": [
       "Context(prec=4, rounding=ROUND_HALF_EVEN, Emin=-999999, Emax=999999, capitals=1, clamp=0, flags=[], traps=[InvalidOperation, DivisionByZero, Overflow])"
      ]
     },
     "execution_count": 15,
     "metadata": {},
     "output_type": "execute_result"
    }
   ],
   "source": [
    "getcontext() #Change Precision from 28 to 4"
   ]
  },
  {
   "cell_type": "code",
   "execution_count": 16,
   "id": "913179f5-e5db-4d74-a0d9-81cb6f90c9aa",
   "metadata": {},
   "outputs": [
    {
     "data": {
      "text/plain": [
       "Decimal('0.3333')"
      ]
     },
     "execution_count": 16,
     "metadata": {},
     "output_type": "execute_result"
    }
   ],
   "source": [
    "Decimal(1) / Decimal(3)"
   ]
  },
  {
   "cell_type": "code",
   "execution_count": 17,
   "id": "69cfedfb-7a92-4057-8afe-1e4fa0122527",
   "metadata": {},
   "outputs": [
    {
     "data": {
      "text/plain": [
       "Decimal('3.14')"
      ]
     },
     "execution_count": 17,
     "metadata": {},
     "output_type": "execute_result"
    }
   ],
   "source": [
    "Decimal('3.14')"
   ]
  },
  {
   "cell_type": "code",
   "execution_count": 18,
   "id": "61ceaaf1-38e8-44b7-8e69-a7ca2b9dee84",
   "metadata": {},
   "outputs": [
    {
     "data": {
      "text/plain": [
       "Decimal('3.140000000000000124344978758017532527446746826171875')"
      ]
     },
     "execution_count": 18,
     "metadata": {},
     "output_type": "execute_result"
    }
   ],
   "source": [
    "Decimal(3.14)"
   ]
  },
  {
   "cell_type": "markdown",
   "id": "b5146aa4-f41e-4621-a2b5-7dc9289e7e3d",
   "metadata": {},
   "source": [
    "# Booleans"
   ]
  },
  {
   "cell_type": "code",
   "execution_count": 19,
   "id": "7efc68dc-aba5-4c7b-bd17-bd9e1ccdd725",
   "metadata": {},
   "outputs": [
    {
     "data": {
      "text/plain": [
       "True"
      ]
     },
     "execution_count": 19,
     "metadata": {},
     "output_type": "execute_result"
    }
   ],
   "source": [
    "bool(1)"
   ]
  },
  {
   "cell_type": "code",
   "execution_count": 20,
   "id": "84b9f353-45e5-4d0f-aa75-dd66272a3b95",
   "metadata": {},
   "outputs": [
    {
     "data": {
      "text/plain": [
       "False"
      ]
     },
     "execution_count": 20,
     "metadata": {},
     "output_type": "execute_result"
    }
   ],
   "source": [
    "bool(0)"
   ]
  },
  {
   "cell_type": "code",
   "execution_count": 21,
   "id": "14a334aa-b0c8-44de-b2cc-d55f3cdcf272",
   "metadata": {},
   "outputs": [
    {
     "data": {
      "text/plain": [
       "True"
      ]
     },
     "execution_count": 21,
     "metadata": {},
     "output_type": "execute_result"
    }
   ],
   "source": [
    "bool(-1)"
   ]
  },
  {
   "cell_type": "code",
   "execution_count": 22,
   "id": "4024793c-4391-417b-b5fd-c2c4706c94be",
   "metadata": {},
   "outputs": [
    {
     "data": {
      "text/plain": [
       "True"
      ]
     },
     "execution_count": 22,
     "metadata": {},
     "output_type": "execute_result"
    }
   ],
   "source": [
    "bool(1j)"
   ]
  },
  {
   "cell_type": "code",
   "execution_count": 23,
   "id": "b65ae3ce-58a3-488b-8215-7662980fcd08",
   "metadata": {},
   "outputs": [
    {
     "data": {
      "text/plain": [
       "False"
      ]
     },
     "execution_count": 23,
     "metadata": {},
     "output_type": "execute_result"
    }
   ],
   "source": [
    "bool(0.0)"
   ]
  },
  {
   "cell_type": "code",
   "execution_count": 24,
   "id": "62fa9ad6-1268-4ca1-855a-e9db49a82b0b",
   "metadata": {},
   "outputs": [
    {
     "data": {
      "text/plain": [
       "False"
      ]
     },
     "execution_count": 24,
     "metadata": {},
     "output_type": "execute_result"
    }
   ],
   "source": [
    "bool(0j)"
   ]
  },
  {
   "cell_type": "code",
   "execution_count": 25,
   "id": "43830a8d-bb19-45d0-aee6-fe75f01d4eaf",
   "metadata": {},
   "outputs": [
    {
     "data": {
      "text/plain": [
       "True"
      ]
     },
     "execution_count": 25,
     "metadata": {},
     "output_type": "execute_result"
    }
   ],
   "source": [
    "bool('True')\n"
   ]
  },
  {
   "cell_type": "code",
   "execution_count": 27,
   "id": "e7071938-cf4a-4c51-ae14-d99eaa72012f",
   "metadata": {},
   "outputs": [
    {
     "data": {
      "text/plain": [
       "True"
      ]
     },
     "execution_count": 27,
     "metadata": {},
     "output_type": "execute_result"
    }
   ],
   "source": [
    "bool('False')"
   ]
  },
  {
   "cell_type": "code",
   "execution_count": 28,
   "id": "a86cfa7d-333d-401e-a3e3-38027ee5c1f6",
   "metadata": {},
   "outputs": [
    {
     "data": {
      "text/plain": [
       "False"
      ]
     },
     "execution_count": 28,
     "metadata": {},
     "output_type": "execute_result"
    }
   ],
   "source": [
    "bool('')"
   ]
  },
  {
   "cell_type": "code",
   "execution_count": 29,
   "id": "bc911175-6165-4729-94df-354c2ad87c3b",
   "metadata": {},
   "outputs": [
    {
     "data": {
      "text/plain": [
       "False"
      ]
     },
     "execution_count": 29,
     "metadata": {},
     "output_type": "execute_result"
    }
   ],
   "source": [
    "bool([])"
   ]
  },
  {
   "cell_type": "code",
   "execution_count": 30,
   "id": "b9c4f402-ee62-4fca-8d76-5474250fa0c4",
   "metadata": {},
   "outputs": [
    {
     "data": {
      "text/plain": [
       "False"
      ]
     },
     "execution_count": 30,
     "metadata": {},
     "output_type": "execute_result"
    }
   ],
   "source": [
    "bool({})"
   ]
  },
  {
   "cell_type": "code",
   "execution_count": 31,
   "id": "e06d3cd2-2ba0-4485-8fc5-f7156b3d74e6",
   "metadata": {},
   "outputs": [
    {
     "data": {
      "text/plain": [
       "False"
      ]
     },
     "execution_count": 31,
     "metadata": {},
     "output_type": "execute_result"
    }
   ],
   "source": [
    "bool(None)"
   ]
  },
  {
   "cell_type": "markdown",
   "id": "a2f1b682-1ea2-4ae8-bc8d-8aa01efb4124",
   "metadata": {},
   "source": [
    "# Strings"
   ]
  },
  {
   "cell_type": "markdown",
   "id": "1817c0c1-3a5f-4e71-8cb6-27fa442665fe",
   "metadata": {},
   "source": [
    "### Slicing"
   ]
  },
  {
   "cell_type": "code",
   "execution_count": 32,
   "id": "e23461a4-dfbd-42c2-b084-ae3f391a6584",
   "metadata": {},
   "outputs": [],
   "source": [
    "name = \"My name is Manideep\""
   ]
  },
  {
   "cell_type": "code",
   "execution_count": 33,
   "id": "f84a5d22-63a2-4941-b576-9752ef94c1f7",
   "metadata": {},
   "outputs": [
    {
     "data": {
      "text/plain": [
       "'M'"
      ]
     },
     "execution_count": 33,
     "metadata": {},
     "output_type": "execute_result"
    }
   ],
   "source": [
    "name[0]"
   ]
  },
  {
   "cell_type": "code",
   "execution_count": 34,
   "id": "962065d6-24c4-4e94-84d3-dcb3bf1c8866",
   "metadata": {},
   "outputs": [
    {
     "data": {
      "text/plain": [
       "'y'"
      ]
     },
     "execution_count": 34,
     "metadata": {},
     "output_type": "execute_result"
    }
   ],
   "source": [
    "name[1]"
   ]
  },
  {
   "cell_type": "code",
   "execution_count": 35,
   "id": "02f56649-7d7a-4662-bd1d-fa8a6d252007",
   "metadata": {},
   "outputs": [
    {
     "data": {
      "text/plain": [
       "'My name'"
      ]
     },
     "execution_count": 35,
     "metadata": {},
     "output_type": "execute_result"
    }
   ],
   "source": [
    "name[0:7]"
   ]
  },
  {
   "cell_type": "code",
   "execution_count": 36,
   "id": "bcab4a89-da04-44dc-924f-9ece457cd06b",
   "metadata": {},
   "outputs": [
    {
     "data": {
      "text/plain": [
       "'My name'"
      ]
     },
     "execution_count": 36,
     "metadata": {},
     "output_type": "execute_result"
    }
   ],
   "source": [
    "name[:7]"
   ]
  },
  {
   "cell_type": "code",
   "execution_count": 37,
   "id": "028254f2-7b5a-4ec5-ba40-61610252218b",
   "metadata": {},
   "outputs": [
    {
     "data": {
      "text/plain": [
       "'Manideep'"
      ]
     },
     "execution_count": 37,
     "metadata": {},
     "output_type": "execute_result"
    }
   ],
   "source": [
    "name[11:]"
   ]
  },
  {
   "cell_type": "code",
   "execution_count": 38,
   "id": "859d3a3c-d0c7-4497-85d7-96df827f324b",
   "metadata": {},
   "outputs": [
    {
     "data": {
      "text/plain": [
       "19"
      ]
     },
     "execution_count": 38,
     "metadata": {},
     "output_type": "execute_result"
    }
   ],
   "source": [
    "len(name)"
   ]
  },
  {
   "cell_type": "markdown",
   "id": "3fcbd289-9ddd-41ce-8738-72602484faba",
   "metadata": {},
   "source": [
    "### Formatting"
   ]
  },
  {
   "cell_type": "code",
   "execution_count": 39,
   "id": "72d59073-f95a-4b43-8a74-29322a4f5782",
   "metadata": {},
   "outputs": [
    {
     "data": {
      "text/plain": [
       "'My Number is 5'"
      ]
     },
     "execution_count": 39,
     "metadata": {},
     "output_type": "execute_result"
    }
   ],
   "source": [
    "f'My Number is {5}'"
   ]
  },
  {
   "cell_type": "code",
   "execution_count": 40,
   "id": "b26d1052-d3a5-4d31-aee1-5723611fc270",
   "metadata": {},
   "outputs": [
    {
     "data": {
      "text/plain": [
       "'My number is 9'"
      ]
     },
     "execution_count": 40,
     "metadata": {},
     "output_type": "execute_result"
    }
   ],
   "source": [
    "f'My number is {3**2}'"
   ]
  },
  {
   "cell_type": "code",
   "execution_count": 41,
   "id": "f32c90ad-ffbc-42bc-9f85-22a697a159b4",
   "metadata": {},
   "outputs": [],
   "source": [
    "import math"
   ]
  },
  {
   "cell_type": "code",
   "execution_count": 42,
   "id": "eadec610-a77c-433e-a850-867fef211deb",
   "metadata": {},
   "outputs": [
    {
     "data": {
      "text/plain": [
       "'Pi is 3.14'"
      ]
     },
     "execution_count": 42,
     "metadata": {},
     "output_type": "execute_result"
    }
   ],
   "source": [
    "f'Pi is {math.pi:.2f}'"
   ]
  },
  {
   "cell_type": "code",
   "execution_count": 43,
   "id": "56ba0e2a-42d1-4493-ad87-ef1750dfc6ec",
   "metadata": {},
   "outputs": [
    {
     "data": {
      "text/plain": [
       "'Pi is 3.141592653589793'"
      ]
     },
     "execution_count": 43,
     "metadata": {},
     "output_type": "execute_result"
    }
   ],
   "source": [
    "'Pi is {}'.format(math.pi)"
   ]
  },
  {
   "cell_type": "markdown",
   "id": "bbeecc28-3baf-44d5-aa25-efeabe61e6ce",
   "metadata": {},
   "source": [
    "### Multi Line Strings"
   ]
  },
  {
   "cell_type": "code",
   "execution_count": 45,
   "id": "1d3cdf97-e4b6-479b-9727-fe4726a629f0",
   "metadata": {},
   "outputs": [
    {
     "name": "stdout",
     "output_type": "stream",
     "text": [
      "'\n",
      "Line 1\n",
      "Line 2\n",
      "Line 3\n",
      "End with '''\n"
     ]
    }
   ],
   "source": [
    "mystring = ''''\n",
    "Line 1\n",
    "Line 2\n",
    "Line 3\n",
    "End with \\'\\'\\''''\n",
    "print(mystring)"
   ]
  },
  {
   "cell_type": "markdown",
   "id": "3f93c8b5-c898-4232-9512-a742f0d25ab2",
   "metadata": {},
   "source": [
    "# Bytes"
   ]
  },
  {
   "cell_type": "markdown",
   "id": "f6bd00ea-56f6-47ea-bad2-b6f3f2a4ad88",
   "metadata": {},
   "source": [
    "### Bytes object common usecases\n",
    "- Streaming files\n",
    "- Transmitting text without knowing the encoding\n",
    "- Used under the hood in Python Libraries"
   ]
  },
  {
   "cell_type": "code",
   "execution_count": 46,
   "id": "229ad7d5-353a-41c8-8a70-3f449c898fee",
   "metadata": {},
   "outputs": [
    {
     "data": {
      "text/plain": [
       "b'\\x00\\x00\\x00\\x00'"
      ]
     },
     "execution_count": 46,
     "metadata": {},
     "output_type": "execute_result"
    }
   ],
   "source": [
    "bytes(4) #Creates Byte object of size 4 bytes"
   ]
  },
  {
   "cell_type": "code",
   "execution_count": 48,
   "id": "0276066a-2916-4aa1-aaf5-a863f8360901",
   "metadata": {},
   "outputs": [
    {
     "name": "stdout",
     "output_type": "stream",
     "text": [
      "b'\\xf0\\x9f\\x99\\x84'\n"
     ]
    }
   ],
   "source": [
    "smiley_bytes = bytes('🙄','utf-8') #Unicode Transformation Format\n",
    "print(smiley_bytes)"
   ]
  },
  {
   "cell_type": "code",
   "execution_count": 49,
   "id": "f704c01a-a07b-49fb-b151-c4979774f170",
   "metadata": {},
   "outputs": [
    {
     "data": {
      "text/plain": [
       "'🙄'"
      ]
     },
     "execution_count": 49,
     "metadata": {},
     "output_type": "execute_result"
    }
   ],
   "source": [
    "smiley_bytes.decode('utf-8')"
   ]
  },
  {
   "cell_type": "code",
   "execution_count": 50,
   "id": "46288e64-a325-46b5-a4c8-ad55eec8a4c2",
   "metadata": {},
   "outputs": [
    {
     "name": "stdout",
     "output_type": "stream",
     "text": [
      "bytearray(b'\\xf0\\x9f\\x99\\x84')\n"
     ]
    }
   ],
   "source": [
    "smiley_byte_array = bytearray('🙄','utf-8') #Unicode Transformation Format\n",
    "print(smiley_byte_array)"
   ]
  },
  {
   "cell_type": "code",
   "execution_count": 51,
   "id": "01cbe275-3bfa-425a-9674-12b4f0c35260",
   "metadata": {},
   "outputs": [
    {
     "data": {
      "text/plain": [
       "'🙅'"
      ]
     },
     "execution_count": 51,
     "metadata": {},
     "output_type": "execute_result"
    }
   ],
   "source": [
    "smiley_byte_array[-1] = int('85',16)\n",
    "smiley_byte_array.decode('utf-8')"
   ]
  },
  {
   "cell_type": "markdown",
   "id": "cf3a5d7a-edfc-43e8-bb58-f3bd757acbf2",
   "metadata": {},
   "source": [
    "# Converting Hex to Decimal Challenge"
   ]
  },
  {
   "cell_type": "code",
   "execution_count": 52,
   "id": "37b65945-9b1b-4203-b169-25802b0a511a",
   "metadata": {},
   "outputs": [
    {
     "name": "stdout",
     "output_type": "stream",
     "text": [
      "162\n",
      "None\n",
      "10\n",
      "0\n",
      "27\n",
      "960\n",
      "None\n",
      "None\n"
     ]
    }
   ],
   "source": [
    "hexNumbers = {\n",
    "    '0': 0, '1': 1, '2': 2, '3': 3, '4': 4, '5': 5, '6': 6, '7': 7, '8': 8, '9': 9,\n",
    "    'A': 10, 'B': 11, 'C': 12, 'D': 13, 'E': 14, 'F': 15\n",
    "}\n",
    "\n",
    "# Converts a string hexadecimal number into an integer decimal\n",
    "# If hexNum is not a valid hexadecimal number, returns None\n",
    "def hexToDec(hexNum):\n",
    "    decimal_num = 0\n",
    "    index = 0\n",
    "    for each_char in hexNum[::-1]:\n",
    "        if each_char not in hexNumbers:\n",
    "            return None\n",
    "        else:\n",
    "            decimal_num += hexNumbers[each_char] * (16 ** index)\n",
    "            index += 1\n",
    "    return decimal_num\n",
    "print(hexToDec('A2'))\n",
    "print(hexToDec('spam spam spam'))\n",
    "print(hexToDec('A'))\n",
    "print(hexToDec('0'))\n",
    "print(hexToDec('1B'))\n",
    "print(hexToDec('3C0'))\n",
    "print(hexToDec('A6G'))\n",
    "print(hexToDec('ZZT0P'))"
   ]
  }
 ],
 "metadata": {
  "kernelspec": {
   "display_name": "Python 3 (ipykernel)",
   "language": "python",
   "name": "python3"
  },
  "language_info": {
   "codemirror_mode": {
    "name": "ipython",
    "version": 3
   },
   "file_extension": ".py",
   "mimetype": "text/x-python",
   "name": "python",
   "nbconvert_exporter": "python",
   "pygments_lexer": "ipython3",
   "version": "3.13.1"
  }
 },
 "nbformat": 4,
 "nbformat_minor": 5
}

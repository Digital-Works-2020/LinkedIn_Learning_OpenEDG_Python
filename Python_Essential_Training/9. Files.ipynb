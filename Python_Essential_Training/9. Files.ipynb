{
 "cells": [
  {
   "cell_type": "markdown",
   "id": "3ce17e50-519e-479d-84b7-ec62da51e7b6",
   "metadata": {},
   "source": [
    "# Reading Files"
   ]
  },
  {
   "cell_type": "code",
   "execution_count": 1,
   "id": "9a421800-28c3-416d-b992-0066c9c7fe34",
   "metadata": {},
   "outputs": [
    {
     "name": "stdout",
     "output_type": "stream",
     "text": [
      "Beautiful is better than ugly.\n",
      "Explicit is better than implicit.\n",
      "Simple is better than complex.\n",
      "Complex is better than complicated.\n",
      "Flat is better than nested.\n",
      "Sparse is better than dense.\n",
      "Readability counts.\n",
      "Special cases aren't special enough to break the rules.\n",
      "Although practicality beats purity.\n",
      "Errors should never pass silently.\n",
      "Unless explicitly silenced.\n",
      "In the face of ambiguity, refuse the temptation to guess.\n",
      "There should be one-- and preferably only one --obvious way to do it.\n",
      "Although that way may not be obvious at first unless you're Dutch.\n",
      "Now is better than never.\n",
      "Although never is often better than *right* now.\n",
      "If the implementation is hard to explain, it's a bad idea.\n",
      "If the implementation is easy to explain, it may be a good idea.\n",
      "Namespaces are one honking great idea -- let's do more of those!\n"
     ]
    }
   ],
   "source": [
    "file_obj = open(\"sample.txt\")\n",
    "for line in file_obj.readlines():\n",
    "    print(line.strip())\n",
    "file_obj.close()"
   ]
  },
  {
   "cell_type": "markdown",
   "id": "3c2cd945-27aa-4324-b739-ad74bd611065",
   "metadata": {},
   "source": [
    "# Writing to Files\n"
   ]
  },
  {
   "cell_type": "code",
   "execution_count": 2,
   "id": "1e326069-bf23-403a-b0a8-6c1998d59087",
   "metadata": {},
   "outputs": [],
   "source": [
    "file_obj = open(\"output.txt\",\"w\")\n",
    "file_obj.write(\"Line1\\n\")\n",
    "file_obj.write(\"Line2\\n\")\n",
    "file_obj.write(\"Line3\\n\")\n",
    "file_obj.close()"
   ]
  },
  {
   "cell_type": "markdown",
   "id": "659beace-958e-4a2e-b884-e6a8a4be519b",
   "metadata": {},
   "source": [
    "# Appending to File"
   ]
  },
  {
   "cell_type": "code",
   "execution_count": 3,
   "id": "ce8c45f6-2832-4561-8b0b-7d77ee400406",
   "metadata": {},
   "outputs": [],
   "source": [
    "file_obj = open(\"output.txt\",\"a\")\n",
    "file_obj.write(\"Line4\\n\")\n",
    "file_obj.write(\"Line5\\n\")\n",
    "file_obj.write(\"Line6\\n\")\n",
    "file_obj.close()"
   ]
  },
  {
   "cell_type": "markdown",
   "id": "49b3ec67-8314-409e-a4d9-c1d1c9e8d0fb",
   "metadata": {},
   "source": [
    "# Closing file objects using with"
   ]
  },
  {
   "cell_type": "code",
   "execution_count": 4,
   "id": "df3c617f-040c-45c0-b239-4739308bb17b",
   "metadata": {},
   "outputs": [
    {
     "name": "stdout",
     "output_type": "stream",
     "text": [
      "['Line1\\n', 'Line2\\n', 'Line3\\n', 'Line4\\n', 'Line5\\n', 'Line6\\n']\n"
     ]
    },
    {
     "ename": "ValueError",
     "evalue": "I/O operation on closed file.",
     "output_type": "error",
     "traceback": [
      "\u001b[0;31m---------------------------------------------------------------------------\u001b[0m",
      "\u001b[0;31mValueError\u001b[0m                                Traceback (most recent call last)",
      "Cell \u001b[0;32mIn[4], line 3\u001b[0m\n\u001b[1;32m      1\u001b[0m \u001b[38;5;28;01mwith\u001b[39;00m \u001b[38;5;28mopen\u001b[39m(\u001b[38;5;124m\"\u001b[39m\u001b[38;5;124moutput.txt\u001b[39m\u001b[38;5;124m\"\u001b[39m) \u001b[38;5;28;01mas\u001b[39;00m f:\n\u001b[1;32m      2\u001b[0m     \u001b[38;5;28mprint\u001b[39m(f\u001b[38;5;241m.\u001b[39mreadlines())\n\u001b[0;32m----> 3\u001b[0m \u001b[38;5;28mprint\u001b[39m(\u001b[43mf\u001b[49m\u001b[38;5;241;43m.\u001b[39;49m\u001b[43mreadline\u001b[49m\u001b[43m(\u001b[49m\u001b[43m)\u001b[49m)\n",
      "\u001b[0;31mValueError\u001b[0m: I/O operation on closed file."
     ]
    }
   ],
   "source": [
    "with open(\"output.txt\") as f:\n",
    "    print(f.readlines())\n",
    "print(f.readline())"
   ]
  },
  {
   "cell_type": "markdown",
   "id": "eb793ec1-ee71-431d-b6c2-e6d6310f3b4e",
   "metadata": {},
   "source": [
    "# CSV Reading"
   ]
  },
  {
   "cell_type": "code",
   "execution_count": 5,
   "id": "a3c17373-3120-440d-9ab2-210d8bb020f3",
   "metadata": {},
   "outputs": [],
   "source": [
    "import csv"
   ]
  },
  {
   "cell_type": "code",
   "execution_count": 6,
   "id": "172cdb68-5c87-4b30-abfa-b1468a223d94",
   "metadata": {},
   "outputs": [
    {
     "name": "stdout",
     "output_type": "stream",
     "text": [
      "['US', '99553', 'Akutan', 'Alaska', 'AK', 'Aleutians East', '013', '54.143', '-165.7854', '1']\n",
      "['US', '99553', 'Akutan', 'Alaska', 'AK', 'Aleutians East', '013', '54.143', '-165.7854', '1']\n"
     ]
    }
   ],
   "source": [
    "with open(\"sample.csv\") as f:\n",
    "    #Converting CSV rows to List\n",
    "    csv_rows = list(csv.reader(f,delimiter='\\t')) #CSV Reader Object\n",
    "    print(csv_rows[1])\n",
    "\n",
    "with open(\"sample.csv\") as f:\n",
    "    #Using Reader  & Next Function to skip header\n",
    "    reader = csv.reader(f,delimiter='\\t')\n",
    "    next(reader)\n",
    "    for row in reader:\n",
    "        print(row)\n",
    "        break\n",
    "    "
   ]
  },
  {
   "cell_type": "markdown",
   "id": "254e53e4-99eb-42ea-a6e5-e06659f42e12",
   "metadata": {},
   "source": [
    "# CSV Filtering Data"
   ]
  },
  {
   "cell_type": "code",
   "execution_count": 7,
   "id": "b539c43e-e96e-4876-9497-d5af42bd9015",
   "metadata": {},
   "outputs": [],
   "source": [
    "with open(\"sample.csv\") as f:\n",
    "    #Converting CSV rows to List\n",
    "    data = list(csv.DictReader(f,delimiter='\\t')) #CSV Reader Object\n",
    "    "
   ]
  },
  {
   "cell_type": "code",
   "execution_count": 8,
   "id": "16e9ccc0-8bde-4574-9fd3-5c28c4024ca9",
   "metadata": {},
   "outputs": [],
   "source": [
    "primes = []\n",
    "for num in range(2,99999):\n",
    "    for factor in range(2,int(num ** 0.5)):\n",
    "        if num % factor == 0:\n",
    "            break\n",
    "    else:\n",
    "        primes.append(num)"
   ]
  },
  {
   "cell_type": "code",
   "execution_count": 9,
   "id": "d804e29b-8888-4486-b17b-6876479044d9",
   "metadata": {},
   "outputs": [
    {
     "name": "stdout",
     "output_type": "stream",
     "text": [
      "91\n"
     ]
    }
   ],
   "source": [
    "filtered_data = [row for row in data if int(row['postal code']) in primes and row['state code'] == \"MA\"]\n",
    "print(len(filtered_data))"
   ]
  },
  {
   "cell_type": "markdown",
   "id": "73497508-b96a-42c8-9c82-37c6c0d92483",
   "metadata": {},
   "source": [
    "# Writing Filtered Data to CSV"
   ]
  },
  {
   "cell_type": "code",
   "execution_count": 10,
   "id": "0d981ca5-b165-4a1a-8ff1-d11079e2b108",
   "metadata": {},
   "outputs": [],
   "source": [
    "with open(\"output.csv\",'w') as f:\n",
    "    #Writer Object\n",
    "    writer = csv.writer(f)\n",
    "    for row in filtered_data:\n",
    "        writer.writerow([row['place name'],row['county']])"
   ]
  },
  {
   "cell_type": "markdown",
   "id": "04b08f0d-269b-4130-b081-bdb5b441de12",
   "metadata": {},
   "source": [
    "# Loading JSON"
   ]
  },
  {
   "cell_type": "code",
   "execution_count": 11,
   "id": "835fd681-6131-488e-ae31-f7a414720fe6",
   "metadata": {},
   "outputs": [
    {
     "name": "stdout",
     "output_type": "stream",
     "text": [
      "{'a': 'apple', 'b': 'bat', 'c': 'cat'}\n"
     ]
    }
   ],
   "source": [
    "import json\n",
    "jsonString = '{\"a\":\"apple\",\"b\":\"bat\",\"c\":\"cat\"}'\n",
    "try:\n",
    "    dict_json = json.loads(jsonString)\n",
    "    print(dict_json)\n",
    "except json.JSONDecodeError:\n",
    "    print(\"Unable to Parse JSON\")"
   ]
  },
  {
   "cell_type": "code",
   "execution_count": 12,
   "id": "d30cbfb4-b339-4b97-8c30-c420c3c1324a",
   "metadata": {},
   "outputs": [
    {
     "name": "stdout",
     "output_type": "stream",
     "text": [
      "Unable to Parse JSON\n"
     ]
    }
   ],
   "source": [
    "jsonString = '{\"a\":\"apple\",\"b\":\"bat\",\"c\":\"cat\",}' #Trailing Comma\n",
    "try:\n",
    "    dict_json = json.loads(jsonString)\n",
    "    print(dict_json)\n",
    "except json.JSONDecodeError:\n",
    "    print(\"Unable to Parse JSON\")"
   ]
  },
  {
   "cell_type": "markdown",
   "id": "9b02c201-2b19-433c-a57e-4a75abfb0000",
   "metadata": {},
   "source": [
    "# Dumps to JSON"
   ]
  },
  {
   "cell_type": "code",
   "execution_count": 13,
   "id": "5f2be999-6089-4335-95cd-3f9dc3cf5bb8",
   "metadata": {},
   "outputs": [
    {
     "name": "stdout",
     "output_type": "stream",
     "text": [
      "{\"a\": \"apple\", \"b\": \"bat\", \"c\": \"cat\"}\n"
     ]
    }
   ],
   "source": [
    "python_dict = {\"a\":\"apple\",\"b\":\"bat\",\"c\":\"cat\"}\n",
    "print(json.dumps(python_dict))"
   ]
  },
  {
   "cell_type": "markdown",
   "id": "def03c7e-6827-4135-8c46-a516774a0232",
   "metadata": {},
   "source": [
    "# Custom JSON Decoders"
   ]
  },
  {
   "cell_type": "code",
   "execution_count": 14,
   "id": "f1a6a5e9-4bdc-4962-afe8-c6b78ba0b989",
   "metadata": {},
   "outputs": [
    {
     "name": "stdout",
     "output_type": "stream",
     "text": [
      "{\"a\": \"Antelope\", \"b\": \"Bear\", \"c\": \"Cat\"}\n"
     ]
    }
   ],
   "source": [
    "class Animal:\n",
    "    def __init__(self,name):\n",
    "        self.name = name\n",
    "python_dict = {\"a\":Animal('Antelope'),\"b\":Animal('Bear'),\"c\":Animal('Cat')}\n",
    "#print(json.dumps(python_dict)) #Throws JSON TypeError: Object of type Animal is not JSON serializable\n",
    "\n",
    "#Create JSONEncoder\n",
    "from json import JSONEncoder\n",
    "class AnimalEncoder(JSONEncoder):\n",
    "    def default(self,o):\n",
    "        if type(o) == Animal:\n",
    "            return o.name\n",
    "        else:\n",
    "            super().default(o)\n",
    "\n",
    "print(json.dumps(python_dict,cls=AnimalEncoder))\n",
    "\n"
   ]
  },
  {
   "cell_type": "markdown",
   "id": "d220efd4-108d-4ebb-ab9b-cca2cfa469b0",
   "metadata": {},
   "source": [
    "# Decoding & Encoding File Contents"
   ]
  },
  {
   "cell_type": "code",
   "execution_count": 15,
   "id": "583e1aaf-9d3c-4145-abb6-fead19d8ad72",
   "metadata": {},
   "outputs": [],
   "source": [
    "import json \n",
    "\n",
    "def encodeString(stringVal):\n",
    "    encodedList = []\n",
    "    prevChar = None\n",
    "    count = 0\n",
    "    for char in stringVal:\n",
    "        if prevChar != char and prevChar is not None:\n",
    "            encodedList.append((prevChar, count))\n",
    "            count = 0\n",
    "        prevChar = char\n",
    "        count = count + 1\n",
    "    encodedList.append((prevChar, count))\n",
    "    return encodedList\n",
    "\n",
    "def decodeString(encodedList):\n",
    "    decodedStr = ''\n",
    "    for item in encodedList:\n",
    "        decodedStr = decodedStr + item[0] * item[1]\n",
    "    return decodedStr\n",
    "\n",
    "# The filename that will be passed to this function\n",
    "# is 10_04_challenge_art.txt\n",
    "def encodeFile(filename, newFilename):\n",
    "    # Your code goes here.\n",
    "    text = open(filename).read()\n",
    "    encoded_txt = json.dumps(encodeString(text))\n",
    "    newfile_obj = open(newFilename,'w')\n",
    "    newfile_obj.write(encoded_txt)\n",
    "    newfile_obj.close()\n",
    "\n",
    "def decodeFile(filename):\n",
    "    text = open(filename).read()\n",
    "    text_list = json.loads(text)\n",
    "    decoded_txt = decodeString(text_list)\n",
    "    return decoded_txt\n",
    "    \n"
   ]
  }
 ],
 "metadata": {
  "kernelspec": {
   "display_name": "Python 3 (ipykernel)",
   "language": "python",
   "name": "python3"
  },
  "language_info": {
   "codemirror_mode": {
    "name": "ipython",
    "version": 3
   },
   "file_extension": ".py",
   "mimetype": "text/x-python",
   "name": "python",
   "nbconvert_exporter": "python",
   "pygments_lexer": "ipython3",
   "version": "3.13.1"
  }
 },
 "nbformat": 4,
 "nbformat_minor": 5
}

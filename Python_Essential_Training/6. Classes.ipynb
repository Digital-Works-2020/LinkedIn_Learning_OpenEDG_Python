{
 "cells": [
  {
   "cell_type": "code",
   "execution_count": 17,
   "id": "9174d005-04b5-47fb-9d72-d205695ef7da",
   "metadata": {},
   "outputs": [
    {
     "name": "stdout",
     "output_type": "stream",
     "text": [
      "4\n",
      "Billy says Meow!!\n"
     ]
    }
   ],
   "source": [
    "class Cat:\n",
    "    _legs = 4 #Static Attribute\n",
    "    def __init__(self,name):\n",
    "        self.name = name\n",
    "    def getLegs(self):\n",
    "        return self._legs\n",
    "    def bark(self):\n",
    "        print(f\"{self.name} says Meow!!\")\n",
    "\n",
    "cat = Cat(\"Billy\")\n",
    "print(cat.getLegs())\n",
    "cat.bark()"
   ]
  },
  {
   "cell_type": "code",
   "execution_count": 18,
   "id": "1f4320b0-3b69-4b60-857c-a046704238d4",
   "metadata": {},
   "outputs": [
    {
     "name": "stdout",
     "output_type": "stream",
     "text": [
      "3\n",
      "4\n"
     ]
    }
   ],
   "source": [
    "cat._legs=3\n",
    "print(cat.getLegs())\n",
    "print(Cat._legs)"
   ]
  },
  {
   "cell_type": "markdown",
   "id": "77246ed7-a647-49bf-b83a-3f470d886764",
   "metadata": {},
   "source": [
    "# Static & Instance Methods"
   ]
  },
  {
   "cell_type": "code",
   "execution_count": 9,
   "id": "e14c7e5e-41a0-43dd-9d43-14c360bb7c06",
   "metadata": {},
   "outputs": [
    {
     "name": "stdout",
     "output_type": "stream",
     "text": [
      "{'add', 'im', 'is', 'a', 'another', 'i', 'sentence', 'that', 'here', 'hi', 'to', 'want', 'ryan'}\n"
     ]
    }
   ],
   "source": [
    "class WordSet:\n",
    "    def __init__(self):\n",
    "        self.words = set()\n",
    "\n",
    "    def cleanText(self,text):\n",
    "        #Chaining Functions\n",
    "        text = text.replace(\"!\",\"\").replace(\".\",\"\").replace(\",\",\"\").replace(\"'\",\"\")\n",
    "        return text.lower()\n",
    "\n",
    "    def addText(self,text):\n",
    "        text = self.cleanText(text)\n",
    "        for word in text.split():\n",
    "            self.words.add(word)\n",
    "\n",
    "wordset = WordSet()\n",
    "wordset.addText(\"Hi, I'm Ryan! Here is a sentence that I want to add!\")\n",
    "wordset.addText(\"Here is another sentence to add\")\n",
    "print(wordset.words)\n",
    "        "
   ]
  },
  {
   "cell_type": "markdown",
   "id": "05a213e8-598d-4d94-bf11-0f9779010531",
   "metadata": {},
   "source": [
    "## Static Method"
   ]
  },
  {
   "cell_type": "code",
   "execution_count": 14,
   "id": "695ce6eb-536b-4b7c-a043-60e47388bf36",
   "metadata": {},
   "outputs": [
    {
     "name": "stdout",
     "output_type": "stream",
     "text": [
      "{'add', 'im', 'is', 'a', 'another', 'i', 'sentence', 'that', 'here', 'hi', 'to', 'want', 'ryan'}\n"
     ]
    }
   ],
   "source": [
    "class WordSet:\n",
    "    def __init__(self):\n",
    "        self.words = set()\n",
    "\n",
    "    #Static Method\n",
    "    def cleanText(text):\n",
    "        #Chaining Functions\n",
    "        text = text.replace(\"!\",\"\").replace(\".\",\"\").replace(\",\",\"\").replace(\"'\",\"\")\n",
    "        return text.lower()\n",
    "\n",
    "    #Instance Method            \n",
    "    def addText(self,text):\n",
    "        text = WordSet.cleanText(text)\n",
    "        for word in text.split():\n",
    "            self.words.add(word)\n",
    "\n",
    "wordset = WordSet()\n",
    "wordset.addText(\"Hi, I'm Ryan! Here is a sentence that I want to add!\")\n",
    "wordset.addText(\"Here is another sentence to add\")\n",
    "print(wordset.words)\n",
    "        "
   ]
  },
  {
   "cell_type": "markdown",
   "id": "26fb544b-534c-4658-bf09-68d97c6e8781",
   "metadata": {},
   "source": [
    "# Static Attribute"
   ]
  },
  {
   "cell_type": "code",
   "execution_count": 15,
   "id": "8d14af1f-0942-4aa2-9b97-4372ab141d96",
   "metadata": {},
   "outputs": [
    {
     "name": "stdout",
     "output_type": "stream",
     "text": [
      "{'add', 'is', 'a', 'another', 'i', 'sentence', 'that', 'here', 'hi', \"i'm\", 'to', 'want', 'ryan'}\n"
     ]
    }
   ],
   "source": [
    "class WordSet:\n",
    "    remove_punc = ['.','!',\"\\\\\",',']\n",
    "\n",
    "    def __init__(self):\n",
    "        self.words = set()\n",
    "\n",
    "    #Static Method\n",
    "    def cleanText(text):\n",
    "        #Chaining Functions\n",
    "        for punc in WordSet.remove_punc:\n",
    "            text = text.replace(punc,'')\n",
    "        return text.lower()\n",
    "\n",
    "    #Instance Method            \n",
    "    def addText(self,text):\n",
    "        text = WordSet.cleanText(text)\n",
    "        for word in text.split():\n",
    "            self.words.add(word)\n",
    "\n",
    "wordset = WordSet()\n",
    "wordset.addText(\"Hi, I'm Ryan! Here is a sentence that I want to add!\")\n",
    "wordset.addText(\"Here is another sentence to add\")\n",
    "print(wordset.words)\n",
    "        "
   ]
  },
  {
   "cell_type": "markdown",
   "id": "842c06b1-b51e-4ddc-a2bb-ccb149c51bc8",
   "metadata": {},
   "source": [
    "# Decorators"
   ]
  },
  {
   "cell_type": "code",
   "execution_count": 16,
   "id": "2ab51e19-999d-4e7b-978f-424c26589253",
   "metadata": {},
   "outputs": [
    {
     "name": "stdout",
     "output_type": "stream",
     "text": [
      "{'add', 'is', 'a', 'another', 'i', 'sentence', 'that', 'here', 'hi', \"i'm\", 'to', 'want', 'ryan'}\n"
     ]
    }
   ],
   "source": [
    "class WordSet:\n",
    "    remove_punc = ['.','!',\"\\\\\",',']\n",
    "\n",
    "    def __init__(self):\n",
    "        self.words = set()\n",
    "\n",
    "    #Static Method\n",
    "    @staticmethod\n",
    "    def cleanText(text):\n",
    "        #Chaining Functions\n",
    "        for punc in WordSet.remove_punc:\n",
    "            text = text.replace(punc,'')\n",
    "        return text.lower()\n",
    "\n",
    "    #Instance Method            \n",
    "    def addText(self,text):\n",
    "        text = self.cleanText(text)\n",
    "        for word in text.split():\n",
    "            self.words.add(word)\n",
    "\n",
    "wordset = WordSet()\n",
    "wordset.addText(\"Hi, I'm Ryan! Here is a sentence that I want to add!\")\n",
    "wordset.addText(\"Here is another sentence to add\")\n",
    "print(wordset.words)\n",
    "        "
   ]
  },
  {
   "cell_type": "markdown",
   "id": "7a9e7a53-8127-47ec-bbc3-489a9b7bd1a7",
   "metadata": {},
   "source": [
    "# Class Inheritance"
   ]
  },
  {
   "cell_type": "code",
   "execution_count": 21,
   "id": "d5e30bc9-b56d-463f-b563-584fd4266e80",
   "metadata": {},
   "outputs": [
    {
     "name": "stdout",
     "output_type": "stream",
     "text": [
      "Roxy says Yap Yap!!\n",
      "Wagging!!\n"
     ]
    }
   ],
   "source": [
    "class Dog:\n",
    "    _legs = 4 #Static Attribute\n",
    "    def __init__(self,name):\n",
    "        self.name = name\n",
    "    def getLegs(self):\n",
    "        return self._legs\n",
    "    def speak(self):\n",
    "        print(f\"{self.name} says Bark!!\")\n",
    "\n",
    "class Chihuahua(Dog):\n",
    "    def speak(self):\n",
    "        print(f\"{self.name} says Yap Yap!!\")\n",
    "    def wagTail(self):\n",
    "        print(\"Wagging!!\")\n",
    "\n",
    "chihuahua = Chihuahua(\"Roxy\")\n",
    "chihuahua.speak()\n",
    "chihuahua.wagTail()"
   ]
  },
  {
   "cell_type": "code",
   "execution_count": 22,
   "id": "1011f38d-ebcb-4675-860c-f0e88c1e1ad3",
   "metadata": {},
   "outputs": [
    {
     "name": "stdout",
     "output_type": "stream",
     "text": [
      "Tom says Bark!!\n"
     ]
    }
   ],
   "source": [
    "dog = Dog(\"Tom\")\n",
    "dog.speak()"
   ]
  },
  {
   "cell_type": "markdown",
   "id": "c3a932bd-b4d8-4fd8-a20d-dba1e448c991",
   "metadata": {},
   "source": [
    "# Extending Built-in Classes"
   ]
  },
  {
   "cell_type": "code",
   "execution_count": 24,
   "id": "f0ed3053-ae86-479c-9781-b7103ff17c94",
   "metadata": {},
   "outputs": [
    {
     "name": "stdout",
     "output_type": "stream",
     "text": [
      "[1, 2]\n"
     ]
    }
   ],
   "source": [
    "class uniqueList(list):\n",
    "    def append(self,item):\n",
    "        if item in self:\n",
    "            return\n",
    "        super().append(item)\n",
    "\n",
    "List = uniqueList()\n",
    "List.append(1)\n",
    "List.append(1)\n",
    "List.append(2)\n",
    "List.append(1)\n",
    "\n",
    "print(List)"
   ]
  },
  {
   "cell_type": "code",
   "execution_count": 25,
   "id": "e36977fc-e62d-4b2a-b0be-4ab0c820a873",
   "metadata": {},
   "outputs": [
    {
     "name": "stdout",
     "output_type": "stream",
     "text": [
      "[1, 2]\n"
     ]
    }
   ],
   "source": [
    "class uniqueList(list):\n",
    "    def __init__(self):\n",
    "        super().__init__()\n",
    "        self.someProp = \"Some Property\"\n",
    "    def append(self,item):\n",
    "        if item in self:\n",
    "            return\n",
    "        super().append(item)\n",
    "\n",
    "List = uniqueList()\n",
    "List.append(1)\n",
    "List.append(1)\n",
    "List.append(2)\n",
    "List.append(1)\n",
    "\n",
    "print(List)"
   ]
  },
  {
   "cell_type": "code",
   "execution_count": 1,
   "id": "d8ea3674-ffb0-401c-9cfa-f2210401f6e1",
   "metadata": {},
   "outputs": [
    {
     "name": "stdout",
     "output_type": "stream",
     "text": [
      "#\n",
      "##\n",
      "###\n",
      "####\n",
      "#####\n"
     ]
    }
   ],
   "source": [
    "# Shapes Using classes\n",
    "class Shape:\n",
    "\twidth = 5\n",
    "\theight = 5\n",
    "\tprintChar = '#'\n",
    "\n",
    "\tdef printRow(self, i):\n",
    "\t\traise NotImplementedError(\"Will be implemented by children extending this class\")\n",
    "\n",
    "\tdef print(self):\n",
    "\t\tfor i in range(self.height):\n",
    "\t\t\tself.printRow(i)\n",
    "\n",
    "\n",
    "class Square(Shape):\n",
    "\tdef printRow(self, i):\n",
    "\t\tprint(self.printChar * self.width)\n",
    "\n",
    "class Triangle(Shape):\n",
    "\tdef printRow(self,i):\n",
    "\t\tprint(self.printChar * (i+1))\n",
    "\n",
    "triangle = Triangle()\n",
    "triangle.print()"
   ]
  },
  {
   "cell_type": "code",
   "execution_count": 8,
   "id": "0e2fc1a1-f910-4776-a380-2f596c2d2320",
   "metadata": {},
   "outputs": [
    {
     "name": "stdout",
     "output_type": "stream",
     "text": [
      "  #\n",
      " ###\n",
      "#####\n",
      "#######\n",
      "#########\n"
     ]
    }
   ],
   "source": [
    "# Symmetrical Triangle Using classes\n",
    "class Shape:\n",
    "\twidth = 5\n",
    "\theight = 5\n",
    "\tprintChar = '#'\n",
    "\n",
    "\tdef printRow(self, i):\n",
    "\t\traise NotImplementedError(\"Will be implemented by children extending this class\")\n",
    "\n",
    "\tdef print(self):\n",
    "\t\tfor i in range(self.height):\n",
    "\t\t\tself.printRow(i)\n",
    "\n",
    "\n",
    "class Square(Shape):\n",
    "\tdef printRow(self, i):\n",
    "\t\tprint(self.printChar * self.width)\n",
    "\n",
    "class Triangle(Shape):\n",
    "    def printRow(self,i):\n",
    "        triangle_width = 2 * i + 1\n",
    "        padding  = int((self.width-triangle_width)/2)\n",
    "        print(' '* padding + self.printChar * (triangle_width))\n",
    "\n",
    "triangle = Triangle()\n",
    "triangle.print()"
   ]
  }
 ],
 "metadata": {
  "kernelspec": {
   "display_name": "Python 3 (ipykernel)",
   "language": "python",
   "name": "python3"
  },
  "language_info": {
   "codemirror_mode": {
    "name": "ipython",
    "version": 3
   },
   "file_extension": ".py",
   "mimetype": "text/x-python",
   "name": "python",
   "nbconvert_exporter": "python",
   "pygments_lexer": "ipython3",
   "version": "3.13.1"
  }
 },
 "nbformat": 4,
 "nbformat_minor": 5
}

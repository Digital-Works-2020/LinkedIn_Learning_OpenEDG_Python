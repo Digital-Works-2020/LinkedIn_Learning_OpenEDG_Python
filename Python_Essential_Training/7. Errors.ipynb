{
 "cells": [
  {
   "cell_type": "markdown",
   "id": "702b2be9-dfc4-4ff8-95de-407e7118bf60",
   "metadata": {},
   "source": [
    "# Errors & Exceptions"
   ]
  },
  {
   "cell_type": "code",
   "execution_count": 1,
   "id": "61f5fd90-a584-4cd8-8de3-5811e4cd6b64",
   "metadata": {
    "scrolled": true
   },
   "outputs": [
    {
     "ename": "ZeroDivisionError",
     "evalue": "division by zero",
     "output_type": "error",
     "traceback": [
      "\u001b[0;31m---------------------------------------------------------------------------\u001b[0m",
      "\u001b[0;31mZeroDivisionError\u001b[0m                         Traceback (most recent call last)",
      "Cell \u001b[0;32mIn[1], line 1\u001b[0m\n\u001b[0;32m----> 1\u001b[0m \u001b[38;5;241;43m1\u001b[39;49m\u001b[38;5;241;43m/\u001b[39;49m\u001b[38;5;241;43m0\u001b[39;49m\n",
      "\u001b[0;31mZeroDivisionError\u001b[0m: division by zero"
     ]
    }
   ],
   "source": [
    "1/0"
   ]
  },
  {
   "cell_type": "markdown",
   "id": "0c2dd6d0-482d-4dc1-bb41-8fde8703c850",
   "metadata": {},
   "source": [
    "# Try / Except"
   ]
  },
  {
   "cell_type": "code",
   "execution_count": 2,
   "id": "f42701dd-3c38-4e89-a762-0f051073f26d",
   "metadata": {},
   "outputs": [
    {
     "name": "stdout",
     "output_type": "stream",
     "text": [
      "<class 'ZeroDivisionError'>\n"
     ]
    }
   ],
   "source": [
    "try:\n",
    "    1/0\n",
    "except Exception as exc:\n",
    "    print(type(exc))"
   ]
  },
  {
   "cell_type": "markdown",
   "id": "fe03e51c-a7c6-4668-a41c-4b642d74c023",
   "metadata": {},
   "source": [
    "# Finally"
   ]
  },
  {
   "cell_type": "code",
   "execution_count": 3,
   "id": "1b65762c-8828-4555-80a8-cfaf7ef2f60c",
   "metadata": {},
   "outputs": [
    {
     "name": "stdout",
     "output_type": "stream",
     "text": [
      "This will always execute\n"
     ]
    },
    {
     "ename": "ZeroDivisionError",
     "evalue": "division by zero",
     "output_type": "error",
     "traceback": [
      "\u001b[0;31m---------------------------------------------------------------------------\u001b[0m",
      "\u001b[0;31mZeroDivisionError\u001b[0m                         Traceback (most recent call last)",
      "Cell \u001b[0;32mIn[3], line 2\u001b[0m\n\u001b[1;32m      1\u001b[0m \u001b[38;5;28;01mtry\u001b[39;00m:\n\u001b[0;32m----> 2\u001b[0m     \u001b[38;5;241;43m1\u001b[39;49m\u001b[38;5;241;43m/\u001b[39;49m\u001b[38;5;241;43m0\u001b[39;49m\n\u001b[1;32m      3\u001b[0m \u001b[38;5;28;01mfinally\u001b[39;00m:\n\u001b[1;32m      4\u001b[0m     \u001b[38;5;28mprint\u001b[39m(\u001b[38;5;124m\"\u001b[39m\u001b[38;5;124mThis will always execute\u001b[39m\u001b[38;5;124m\"\u001b[39m)\n",
      "\u001b[0;31mZeroDivisionError\u001b[0m: division by zero"
     ]
    }
   ],
   "source": [
    "try:\n",
    "    1/0\n",
    "finally:\n",
    "    print(\"This will always execute\")"
   ]
  },
  {
   "cell_type": "code",
   "execution_count": 4,
   "id": "a6e44bbf-4ec3-4caf-a10d-c8fe547a71b8",
   "metadata": {},
   "outputs": [
    {
     "name": "stdout",
     "output_type": "stream",
     "text": [
      "This will always execute\n"
     ]
    }
   ],
   "source": [
    "try:\n",
    "    1/1\n",
    "finally:\n",
    "    print(\"This will always execute\")"
   ]
  },
  {
   "cell_type": "code",
   "execution_count": 7,
   "id": "bc19146a-df96-4479-9646-e857047e63f0",
   "metadata": {},
   "outputs": [
    {
     "name": "stdout",
     "output_type": "stream",
     "text": [
      "Function took 1.003852128982544 seconds\n"
     ]
    },
    {
     "data": {
      "text/plain": [
       "1.0"
      ]
     },
     "execution_count": 7,
     "metadata": {},
     "output_type": "execute_result"
    }
   ],
   "source": [
    "import time\n",
    "def causeError():\n",
    "    start = time.time()\n",
    "    try:\n",
    "        time.sleep(1)\n",
    "        return 1/1\n",
    "    finally:\n",
    "        print(f\"Function took {time.time()-start} seconds\")\n",
    "\n",
    "causeError()"
   ]
  },
  {
   "cell_type": "markdown",
   "id": "5a07d890-4ed0-495f-b7ec-ad22b8971574",
   "metadata": {},
   "source": [
    "# Catching Exceptions by type"
   ]
  },
  {
   "cell_type": "code",
   "execution_count": 8,
   "id": "c1207180-a71d-471a-9810-9356946b7959",
   "metadata": {},
   "outputs": [
    {
     "name": "stdout",
     "output_type": "stream",
     "text": [
      "Zero Division Error\n"
     ]
    }
   ],
   "source": [
    "def causeError():\n",
    "    try:\n",
    "        1/0\n",
    "    except ZeroDivisionError:\n",
    "        print(\"Zero Division Error\")\n",
    "    except Exception:\n",
    "        print(\"Some Other Error\")\n",
    "\n",
    "causeError()"
   ]
  },
  {
   "cell_type": "code",
   "execution_count": 9,
   "id": "2d3e8e50-ecbf-41f6-8e6b-fbc29f6ffff0",
   "metadata": {},
   "outputs": [
    {
     "name": "stdout",
     "output_type": "stream",
     "text": [
      "Type Error\n"
     ]
    }
   ],
   "source": [
    "def causeError():\n",
    "    try:\n",
    "        2 + [1, 3]\n",
    "    except TypeError:\n",
    "        print(\"Type Error\")\n",
    "    except Exception:\n",
    "        print(\"Some Other Error\")\n",
    "\n",
    "causeError()"
   ]
  },
  {
   "cell_type": "code",
   "execution_count": 15,
   "id": "05808c57-a10a-43f5-a5ae-73b83393644b",
   "metadata": {},
   "outputs": [
    {
     "name": "stdout",
     "output_type": "stream",
     "text": [
      "Zero Division Error\n",
      "Type Error\n"
     ]
    }
   ],
   "source": [
    "def handle_exception(func):\n",
    "    def wrapper(*args):\n",
    "        try:\n",
    "            func(*args)\n",
    "        except ZeroDivisionError:\n",
    "            print(\"Zero Division Error\")\n",
    "        except TypeError:\n",
    "            print(\"Type Error\")            \n",
    "        except Exception:\n",
    "            print(\"Some Other Error\")\n",
    "    return wrapper\n",
    "\n",
    "@handle_exception\n",
    "def causeError():\n",
    "    1/0\n",
    "\n",
    "@handle_exception\n",
    "def causetypeError():\n",
    "    2 + [3, 4]\n",
    "\n",
    "causeError()\n",
    "causetypeError()"
   ]
  },
  {
   "cell_type": "markdown",
   "id": "fcc1213e-08af-44e4-b8a9-63d0cbf3e6e3",
   "metadata": {},
   "source": [
    "# Raising Exceptions"
   ]
  },
  {
   "cell_type": "code",
   "execution_count": 17,
   "id": "d70eadb5-2392-4df6-ab45-22412eded164",
   "metadata": {},
   "outputs": [
    {
     "name": "stdout",
     "output_type": "stream",
     "text": [
      "Some Other Error\n",
      "1\n"
     ]
    }
   ],
   "source": [
    "@handle_exception\n",
    "def raiseError(n):\n",
    "    if n == 0:\n",
    "        raise Exception()\n",
    "    print(n)\n",
    "\n",
    "raiseError(0)\n",
    "raiseError(1)"
   ]
  },
  {
   "cell_type": "markdown",
   "id": "1c1d6746-e1be-4f71-adfe-972408073b46",
   "metadata": {},
   "source": [
    "# Custom Exceptions"
   ]
  },
  {
   "cell_type": "code",
   "execution_count": 20,
   "id": "12d29cff-0905-4aec-bd33-2ff017551eeb",
   "metadata": {},
   "outputs": [
    {
     "ename": "CustomException",
     "evalue": "",
     "output_type": "error",
     "traceback": [
      "\u001b[0;31m---------------------------------------------------------------------------\u001b[0m",
      "\u001b[0;31mCustomException\u001b[0m                           Traceback (most recent call last)",
      "Cell \u001b[0;32mIn[20], line 7\u001b[0m\n\u001b[1;32m      4\u001b[0m \u001b[38;5;28;01mdef\u001b[39;00m\u001b[38;5;250m \u001b[39m\u001b[38;5;21mcauseException\u001b[39m():\n\u001b[1;32m      5\u001b[0m     \u001b[38;5;28;01mraise\u001b[39;00m CustomException()\n\u001b[0;32m----> 7\u001b[0m \u001b[43mcauseException\u001b[49m\u001b[43m(\u001b[49m\u001b[43m)\u001b[49m\n",
      "Cell \u001b[0;32mIn[20], line 5\u001b[0m, in \u001b[0;36mcauseException\u001b[0;34m()\u001b[0m\n\u001b[1;32m      4\u001b[0m \u001b[38;5;28;01mdef\u001b[39;00m\u001b[38;5;250m \u001b[39m\u001b[38;5;21mcauseException\u001b[39m():\n\u001b[0;32m----> 5\u001b[0m     \u001b[38;5;28;01mraise\u001b[39;00m CustomException()\n",
      "\u001b[0;31mCustomException\u001b[0m: "
     ]
    }
   ],
   "source": [
    "class CustomException(Exception):\n",
    "    pass\n",
    "\n",
    "def causeException():\n",
    "    raise CustomException()\n",
    "\n",
    "causeException()"
   ]
  },
  {
   "cell_type": "code",
   "execution_count": 22,
   "id": "f34c00f2-0eee-403f-82d5-5ad7c0e7efe4",
   "metadata": {},
   "outputs": [
    {
     "ename": "CustomException",
     "evalue": "Custom message for Custom Exception",
     "output_type": "error",
     "traceback": [
      "\u001b[0;31m---------------------------------------------------------------------------\u001b[0m",
      "\u001b[0;31mCustomException\u001b[0m                           Traceback (most recent call last)",
      "Cell \u001b[0;32mIn[22], line 4\u001b[0m\n\u001b[1;32m      1\u001b[0m \u001b[38;5;28;01mdef\u001b[39;00m\u001b[38;5;250m \u001b[39m\u001b[38;5;21mcauseException\u001b[39m():\n\u001b[1;32m      2\u001b[0m     \u001b[38;5;28;01mraise\u001b[39;00m CustomException(\u001b[38;5;124m\"\u001b[39m\u001b[38;5;124mCustom message for Custom Exception\u001b[39m\u001b[38;5;124m\"\u001b[39m)\n\u001b[0;32m----> 4\u001b[0m \u001b[43mcauseException\u001b[49m\u001b[43m(\u001b[49m\u001b[43m)\u001b[49m\n",
      "Cell \u001b[0;32mIn[22], line 2\u001b[0m, in \u001b[0;36mcauseException\u001b[0;34m()\u001b[0m\n\u001b[1;32m      1\u001b[0m \u001b[38;5;28;01mdef\u001b[39;00m\u001b[38;5;250m \u001b[39m\u001b[38;5;21mcauseException\u001b[39m():\n\u001b[0;32m----> 2\u001b[0m     \u001b[38;5;28;01mraise\u001b[39;00m CustomException(\u001b[38;5;124m\"\u001b[39m\u001b[38;5;124mCustom message for Custom Exception\u001b[39m\u001b[38;5;124m\"\u001b[39m)\n",
      "\u001b[0;31mCustomException\u001b[0m: Custom message for Custom Exception"
     ]
    }
   ],
   "source": [
    "def causeException():\n",
    "    raise CustomException(\"Custom message for Custom Exception\")\n",
    "\n",
    "causeException()"
   ]
  },
  {
   "cell_type": "markdown",
   "id": "9eb1235b-4e2e-427e-843d-521494a450d0",
   "metadata": {},
   "source": [
    "# Adding Attributes"
   ]
  },
  {
   "cell_type": "code",
   "execution_count": 23,
   "id": "d0875e68-da2b-4ac5-858c-053f19914d3a",
   "metadata": {},
   "outputs": [
    {
     "ename": "ServerError",
     "evalue": "StatusCode is 500 and message is Internal Server Error",
     "output_type": "error",
     "traceback": [
      "\u001b[0;31m---------------------------------------------------------------------------\u001b[0m",
      "\u001b[0;31mServerError\u001b[0m                               Traceback (most recent call last)",
      "Cell \u001b[0;32mIn[23], line 18\u001b[0m\n\u001b[1;32m     15\u001b[0m \u001b[38;5;28;01mdef\u001b[39;00m\u001b[38;5;250m \u001b[39m\u001b[38;5;21mraiseServerError\u001b[39m():\n\u001b[1;32m     16\u001b[0m     \u001b[38;5;28;01mraise\u001b[39;00m ServerError()\n\u001b[0;32m---> 18\u001b[0m \u001b[43mraiseServerError\u001b[49m\u001b[43m(\u001b[49m\u001b[43m)\u001b[49m\n",
      "Cell \u001b[0;32mIn[23], line 16\u001b[0m, in \u001b[0;36mraiseServerError\u001b[0;34m()\u001b[0m\n\u001b[1;32m     15\u001b[0m \u001b[38;5;28;01mdef\u001b[39;00m\u001b[38;5;250m \u001b[39m\u001b[38;5;21mraiseServerError\u001b[39m():\n\u001b[0;32m---> 16\u001b[0m     \u001b[38;5;28;01mraise\u001b[39;00m ServerError()\n",
      "\u001b[0;31mServerError\u001b[0m: StatusCode is 500 and message is Internal Server Error"
     ]
    }
   ],
   "source": [
    "class HttpException(Exception):\n",
    "    statusCode = None\n",
    "    message  = None\n",
    "    def __init__(self):\n",
    "        super().__init__(f'StatusCode is {self.statusCode} and message is {self.message}')\n",
    "\n",
    "class NotFound(HttpException):\n",
    "    statusCode= 400\n",
    "    message = \"Resource Not Found\"\n",
    "\n",
    "class ServerError(HttpException):\n",
    "    statusCode= 500\n",
    "    message = \"Internal Server Error\"\n",
    "\n",
    "def raiseServerError():\n",
    "    raise ServerError()\n",
    "\n",
    "raiseServerError()\n",
    "\n",
    "\n",
    "        "
   ]
  },
  {
   "cell_type": "markdown",
   "id": "e067c6c6-89e4-4521-a315-2e0aaee12db0",
   "metadata": {},
   "source": [
    "# Exception Coding Challenge"
   ]
  },
  {
   "cell_type": "code",
   "execution_count": 28,
   "id": "29cf7a48-9de2-478e-aa16-0751e35e7def",
   "metadata": {},
   "outputs": [
    {
     "name": "stdout",
     "output_type": "stream",
     "text": [
      "Hooray!\n",
      "6\n",
      "Hooray!\n"
     ]
    }
   ],
   "source": [
    "def handleNonIntArguments(func):\n",
    "    def wrapper(*args):\n",
    "        for i in args:\n",
    "            if not (isinstance(i,int)):\n",
    "                raise NonIntArgumentException()\n",
    "        return func(*args)\n",
    "    return wrapper\n",
    "\n",
    "class NonIntArgumentException(Exception):\n",
    "    pass\n",
    "\n",
    "@handleNonIntArguments\n",
    "def sum(a, b, c):\n",
    "    return a + b + c\n",
    "\n",
    "try:\n",
    "    result = sum(1, 2, 'a')\n",
    "    print('This should not print out')\n",
    "except NonIntArgumentException as e:\n",
    "    print('Hooray!')\n",
    "\n",
    "try:\n",
    "    result = sum(1, 2, 3)\n",
    "    print(result)\n",
    "except NonIntArgumentException as e:\n",
    "    print('Hooray!')\n",
    "\n",
    "try:\n",
    "    result = sum(1, 2, 3.2)\n",
    "except NonIntArgumentException as e:\n",
    "    print('Hooray!')\n"
   ]
  }
 ],
 "metadata": {
  "kernelspec": {
   "display_name": "Python 3 (ipykernel)",
   "language": "python",
   "name": "python3"
  },
  "language_info": {
   "codemirror_mode": {
    "name": "ipython",
    "version": 3
   },
   "file_extension": ".py",
   "mimetype": "text/x-python",
   "name": "python",
   "nbconvert_exporter": "python",
   "pygments_lexer": "ipython3",
   "version": "3.13.1"
  }
 },
 "nbformat": 4,
 "nbformat_minor": 5
}

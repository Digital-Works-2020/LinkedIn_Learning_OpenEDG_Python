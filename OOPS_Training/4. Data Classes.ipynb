{
 "cells": [
  {
   "cell_type": "code",
   "execution_count": 1,
   "id": "74de5ab6-ed5f-4fa0-83d6-abf66c90544f",
   "metadata": {},
   "outputs": [
    {
     "name": "stdout",
     "output_type": "stream",
     "text": [
      "Think & Grow Rich\n",
      "29.95\n",
      "Napoleon Hill\n",
      "300\n",
      "Book(title='Think & Grow Rich', price=29.95, author='Napoleon Hill', pages=300)\n",
      "Book(title='Think & Grow Rich', price=29.95, author='Napoleon Hill', pages=300)\n",
      "True\n",
      "False\n"
     ]
    }
   ],
   "source": [
    "#Data Class - Helps in Avoiding Init Function\n",
    "from dataclasses import dataclass\n",
    "\n",
    "@dataclass #Dataclass Decorator\n",
    "class Book:\n",
    "    title: str\n",
    "    price: float\n",
    "    author: str\n",
    "    pages: int\n",
    "\n",
    "book = Book(\"Think & Grow Rich\", 29.95,  \"Napoleon Hill\", 300)\n",
    "book2 = Book(\"Think & Grow Rich\", 29.95,  \"Napoleon Hill\", 300)\n",
    "book3 = Book(\"Think & Grow Rich\", 29.95,  \"Napoleon Hill\", 301)\n",
    "\n",
    "print(book.title) #Think & Grow Rich\n",
    "print(book.price) #29.95\n",
    "print(book.author) #Napoleon Hill\n",
    "print(book.pages) #300\n",
    "\n",
    "print(book) #Book(title='Think & Grow Rich', price=29.95, author='Napoleon Hill', pages=300). No need to define __str__ or __repr__\n",
    "print(repr(book)) #Book(title='Think & Grow Rich', price=29.95, author='Napoleon Hill', pages=300)\n",
    "\n",
    "print(book == book2) #True. No need to override __eq__\n",
    "print(book == book3) #False. No need to override __eq__"
   ]
  },
  {
   "cell_type": "code",
   "execution_count": 2,
   "id": "cda832b6-c1cf-4794-8a06-a2911fb88a5b",
   "metadata": {},
   "outputs": [
    {
     "name": "stdout",
     "output_type": "stream",
     "text": [
      "Think & Grow Rich by Napoleon Hill\n"
     ]
    }
   ],
   "source": [
    "#Post Init\n",
    "from dataclasses import dataclass\n",
    "\n",
    "@dataclass #Dataclass Decorator\n",
    "class Book:\n",
    "    title: str\n",
    "    price: float\n",
    "    author: str\n",
    "    pages: int\n",
    "    def __post_init__(Self): #Done after Initilization\n",
    "        Self.description = f\"{Self.title} by {Self.author}\"\n",
    "\n",
    "book = Book(\"Think & Grow Rich\", 29.95,  \"Napoleon Hill\", 300)\n",
    "print(book.description) #Think & Grow Rich by Napoleon Hill\n"
   ]
  },
  {
   "cell_type": "code",
   "execution_count": 3,
   "id": "6de80c6d-6e4b-4aae-b8f0-ba7b0550ef68",
   "metadata": {},
   "outputs": [
    {
     "name": "stdout",
     "output_type": "stream",
     "text": [
      "Book(title='No Title', price=0.0, author='No Author', pages=0)\n"
     ]
    }
   ],
   "source": [
    "#Default Values\n",
    "from dataclasses import dataclass\n",
    "\n",
    "@dataclass #Dataclass Decorator\n",
    "class Book:\n",
    "    title: str = \"No Title\"\n",
    "    price: float = 0.0\n",
    "    author: str = \"No Author\"\n",
    "    pages: int = 0\n",
    "\n",
    "b = Book()\n",
    "print(b) #Book(title='No Title', price=0.0, author='No Author', pages=0)\n",
    "\n"
   ]
  },
  {
   "cell_type": "code",
   "execution_count": 4,
   "id": "9b5eb5b5-0519-4b57-bf68-c001e13ddf4e",
   "metadata": {},
   "outputs": [
    {
     "name": "stdout",
     "output_type": "stream",
     "text": [
      "Book(price=20.0, title='No Title', author='No Author', pages=0)\n"
     ]
    }
   ],
   "source": [
    "#Default Values - No Defaults First\n",
    "from dataclasses import dataclass\n",
    "\n",
    "@dataclass #Dataclass Decorator\n",
    "class Book:\n",
    "    price: float\n",
    "    title: str = \"No Title\"    \n",
    "    author: str = \"No Author\"\n",
    "    pages: int = 0\n",
    "    \n",
    "\n",
    "b = Book(20.0)\n",
    "print(b) #Book(price=20.0, title='No Title', author='No Author', pages=0)\n"
   ]
  },
  {
   "cell_type": "code",
   "execution_count": 5,
   "id": "d60c8bed-1304-48a8-83be-a589a3f9b0af",
   "metadata": {},
   "outputs": [
    {
     "name": "stdout",
     "output_type": "stream",
     "text": [
      "Book(title='Think & Grow Rich', author='Napoleon Hill', pages=300, price=29.95)\n",
      "Book(title='Think & Grow Rich', author='Napoleon Hill', pages=300, price=39.95)\n",
      "Book(title='Think & Grow Rich', author='Napoleon Hill', pages=301, price=10.0)\n"
     ]
    }
   ],
   "source": [
    "from dataclasses import dataclass, field\n",
    "\n",
    "@dataclass #Dataclass Decorator\n",
    "class Book:\n",
    "    title: str = \"No Title\"    \n",
    "    author: str = \"No Author\"\n",
    "    pages: int = 0\n",
    "    price: float = field(default = 10.0)\n",
    "\n",
    "book = Book( \"Think & Grow Rich\",  \"Napoleon Hill\", 300, 29.95)\n",
    "book2 = Book(\"Think & Grow Rich\",  \"Napoleon Hill\", 300, 39.95)\n",
    "book3 = Book( \"Think & Grow Rich\",  \"Napoleon Hill\", 301)\n",
    "print(book) #Book(title='Think & Grow Rich', author='Napoleon Hill', pages=300, price=29.95)\n",
    "print(book2) #Book(title='Think & Grow Rich', author='Napoleon Hill', pages=300, price=39.95)\n",
    "print(book3) #Book(title='Think & Grow Rich', author='Napoleon Hill', pages=301, price=10.0)\n"
   ]
  },
  {
   "cell_type": "code",
   "execution_count": 6,
   "id": "7be765dc-1364-42a4-9754-d04dd56b08bc",
   "metadata": {},
   "outputs": [
    {
     "name": "stdout",
     "output_type": "stream",
     "text": [
      "Book(title='Think & Grow Rich', author='Napoleon Hill', pages=300, price=31.0)\n"
     ]
    }
   ],
   "source": [
    "from dataclasses import dataclass, field\n",
    "import random\n",
    "\n",
    "def price_func():\n",
    "    return float(random.randrange(20,40))\n",
    "\n",
    "@dataclass #Dataclass Decorator\n",
    "class Book:\n",
    "    title: str = \"No Title\"    \n",
    "    author: str = \"No Author\"\n",
    "    pages: int = 0\n",
    "    price: float = field(default_factory = price_func)\n",
    "\n",
    "\n",
    "book = Book( \"Think & Grow Rich\",  \"Napoleon Hill\", 300)\n",
    "print(book) #Book(title='Think & Grow Rich', author='Napoleon Hill', pages=300, price=RANDOM_VALUE)\n"
   ]
  },
  {
   "cell_type": "code",
   "execution_count": 7,
   "id": "5f71500e-b00b-4d92-b0c6-6269947db089",
   "metadata": {},
   "outputs": [
    {
     "name": "stdout",
     "output_type": "stream",
     "text": [
      "Immutable(value1='Value 1', value2=0)\n",
      "Cannot Changes Props of Immutable Class\n",
      "Immutable(value1='Value changes', value2=1)\n",
      "Cannot Changes Props of Immutable Class through func too\n"
     ]
    }
   ],
   "source": [
    "#Immutable Classes\n",
    "from dataclasses import dataclass, FrozenInstanceError\n",
    "\n",
    "@dataclass(frozen = True)\n",
    "class Immutable:\n",
    "    value1: str = \"Value 1\"\n",
    "    value2: int = 0\n",
    "\n",
    "    def func(Self, str_val):\n",
    "        Self.value1 = str_val\n",
    "        \n",
    "obj = Immutable()\n",
    "print(obj) #Immutable(value1='Value 1', value2=0)\n",
    "try:\n",
    "    obj.value1 = \"Value2\"\n",
    "except FrozenInstanceError:\n",
    "    print(\"Cannot Changes Props of Immutable Class\")\n",
    "\n",
    "obj = Immutable(\"Value changes\", 1)\n",
    "print(obj) #Immutable(value1='Value changes', value2=1)\n",
    "\n",
    "try:\n",
    "    obj.func(\"Value2\")\n",
    "except FrozenInstanceError:\n",
    "    print(\"Cannot Changes Props of Immutable Class through func too\")"
   ]
  },
  {
   "cell_type": "code",
   "execution_count": 8,
   "id": "657bf0f2-2539-4c78-b645-b9f9407d3b9f",
   "metadata": {},
   "outputs": [
    {
     "name": "stdout",
     "output_type": "stream",
     "text": [
      "False\n",
      "True\n",
      "False\n",
      "True\n",
      "False\n"
     ]
    }
   ],
   "source": [
    "# Stock Comparision with Data Classes\n",
    "\n",
    "from dataclasses import dataclass\n",
    "from abc import ABC, abstractmethod\n",
    "\n",
    "@dataclass(eq = False)\n",
    "class Asset(ABC):\n",
    "    price: float\n",
    "\n",
    "    def __eq__(Self, Comp):\n",
    "        return Self.price == Comp.price\n",
    "    \n",
    "    def __ge__(Self, Comp):\n",
    "        return Self.price >= Comp.price\n",
    "    \n",
    "    def __gt__(Self, Comp):\n",
    "        return Self.price > Comp.price\n",
    "    \n",
    "    def __le__(Self, Comp):\n",
    "        return Self.price <= Comp.price\n",
    "    \n",
    "    def __lt__(Self, Comp):\n",
    "        return Self.price < Comp.price\n",
    "\n",
    "@dataclass(eq = False)\n",
    "class Stock(Asset):\n",
    "    ticker: str\n",
    "    company: str\n",
    "\n",
    "\n",
    "@dataclass(eq = False)\n",
    "class Bond(Asset):\n",
    "    description: str\n",
    "    duration: int\n",
    "    interest: float\n",
    "\n",
    "\n",
    "ticker = \"ABCD\"\n",
    "price = 200.00\n",
    "description = \"ABCD Corporation\"\n",
    "\n",
    "bondname = \"30 Year US Treasury\"\n",
    "bondprice = 100.00\n",
    "duration = 30\n",
    "interest = 4.38\n",
    "\n",
    "\n",
    "stock = Stock(price, ticker, description)\n",
    "bond = Bond(bondprice, bondname, duration, interest)\n",
    "\n",
    "is_eq = (stock == bond)\n",
    "is_gt = (stock > bond)\n",
    "is_lt = (stock < bond)\n",
    "is_gte = (stock >= bond)\n",
    "is_lte = (stock <= bond)\n",
    "\n",
    "print(is_eq)\n",
    "print(is_gt)\n",
    "print(is_lt)\n",
    "print(is_gte)\n",
    "print(is_lte)"
   ]
  }
 ],
 "metadata": {
  "kernelspec": {
   "display_name": "Python 3 (ipykernel)",
   "language": "python",
   "name": "python3"
  },
  "language_info": {
   "codemirror_mode": {
    "name": "ipython",
    "version": 3
   },
   "file_extension": ".py",
   "mimetype": "text/x-python",
   "name": "python",
   "nbconvert_exporter": "python",
   "pygments_lexer": "ipython3",
   "version": "3.13.1"
  }
 },
 "nbformat": 4,
 "nbformat_minor": 5
}

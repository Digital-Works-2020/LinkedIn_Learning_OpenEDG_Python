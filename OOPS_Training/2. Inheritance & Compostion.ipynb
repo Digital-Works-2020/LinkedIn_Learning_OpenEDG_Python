{
 "cells": [
  {
   "cell_type": "code",
   "execution_count": 1,
   "id": "426e6353-aec9-43d2-b27e-e36e5b8ff0c7",
   "metadata": {},
   "outputs": [
    {
     "name": "stdout",
     "output_type": "stream",
     "text": [
      "Aldous Huxley\n",
      "New York Times Company\n",
      "29.0 6 5.99\n"
     ]
    }
   ],
   "source": [
    "class Publication:\n",
    "    def __init__(Self, title, price):\n",
    "        Self.title = title\n",
    "        Self.price = price\n",
    "\n",
    "class Periodical(Publication):\n",
    "    def __init__(Self, title, price, period, publisher):\n",
    "        super().__init__(title, price)\n",
    "        Self. period = period\n",
    "        Self.publisher = publisher\n",
    "\n",
    "class Book(Publication):\n",
    "    def __init__(Self, title, author, pages, price):\n",
    "        #Call Parent Class Init\n",
    "        super().__init__(title, price)\n",
    "        Self.author = author\n",
    "        Self.pages = pages\n",
    "\n",
    "class Magazine(Periodical):\n",
    "    def __init__(Self, title, price, period, publisher):\n",
    "        super().__init__(title, price, period, publisher)\n",
    "\n",
    "class NewsPaper(Periodical):\n",
    "    def __init__(Self, title, price, period, publisher):\n",
    "        super().__init__(title, price, period, publisher)\n",
    "\n",
    "b1 = Book(\"Brave New World\",\"Aldous Huxley\", 311, 29.0)\n",
    "n1 = NewsPaper(\"NY Times\", 6, \"Daily\", \"New York Times Company\")\n",
    "m1 = Magazine(\"Scientific American\", 5.99, \"Monthly\", \"Springer Nature\")\n",
    "\n",
    "print(b1.author) #Aldous Huxley\n",
    "print(n1.publisher) #New York Times Company\n",
    "print(b1.price, n1.price, m1.price) #29.0 6 5.99\n",
    "        "
   ]
  },
  {
   "cell_type": "markdown",
   "id": "d030eed9-598e-4e27-ac43-138c1f41a7f1",
   "metadata": {},
   "source": [
    "# Abstract Base Class\n",
    "- Its just blueprint\n",
    "- Object Creation of those classes should be blocked\n",
    "- Enforce certain methods to be implemented mandatorily by Sub Class"
   ]
  },
  {
   "cell_type": "code",
   "execution_count": 2,
   "id": "5b99e7b9-7dea-4573-b1ae-2857f3fa8b4f",
   "metadata": {},
   "outputs": [
    {
     "name": "stdout",
     "output_type": "stream",
     "text": [
      "314.1592653589793\n",
      "144\n"
     ]
    }
   ],
   "source": [
    "import math\n",
    "from abc import ABC, abstractmethod #Import Abstract Base Class\n",
    "\n",
    "class GraphicShape(ABC): #Extending ABC implies that GraphicShape is a Abstract Base Class & No Objects of it can be created\n",
    "    def __init__(Self):\n",
    "        super().__init__()\n",
    "\n",
    "    @abstractmethod #Decorator implies that subclass must override this method\n",
    "    def calcArea(Self):\n",
    "        pass\n",
    "    \n",
    "class Circle(GraphicShape):\n",
    "    def __init__(Self, radius):\n",
    "        Self.radius = radius\n",
    "\n",
    "    def calcArea(Self):\n",
    "        return math.pi * Self.radius * Self.radius\n",
    "\n",
    "class Square():\n",
    "    def __init__(Self, side):\n",
    "        Self.side = side\n",
    "\n",
    "    def calcArea(Self):\n",
    "        return Self.side * Self.side\n",
    "\n",
    "c = Circle(10)\n",
    "print(c.calcArea())\n",
    "\n",
    "s = Square(12)\n",
    "print(s.calcArea())"
   ]
  },
  {
   "cell_type": "code",
   "execution_count": 3,
   "id": "e3b49d4f-79b1-4dd5-b652-d1b9536ab818",
   "metadata": {},
   "outputs": [
    {
     "name": "stdout",
     "output_type": "stream",
     "text": [
      "Class B Init\n",
      "Class A Init\n",
      "Prop1\n",
      "Prop2\n",
      "Class A\n",
      "(<class '__main__.C'>, <class '__main__.A'>, <class '__main__.B'>, <class 'object'>)\n"
     ]
    }
   ],
   "source": [
    "#Multiple Inheritance\n",
    "\n",
    "class A:\n",
    "    def __init__(Self):\n",
    "        super().__init__()\n",
    "        print(\"Class A Init\")\n",
    "        Self.prop1 = \"Prop1\"\n",
    "        Self.name = \"Class A\"\n",
    "\n",
    "class B:\n",
    "    def __init__(Self):\n",
    "        super().__init__()\n",
    "        print(\"Class B Init\")\n",
    "        Self.prop2 = \"Prop2\"\n",
    "        Self.name = \"Class B\"\n",
    "\n",
    "class C(A,B): #Inherits Multiple Classes\n",
    "    def __init__(Self):\n",
    "        super().__init__()\n",
    "\n",
    "    def showprops(Self):\n",
    "        print(Self.prop1)\n",
    "        print(Self.prop2)\n",
    "        print(Self.name)\n",
    "\n",
    "c = C()\n",
    "c.showprops()\n",
    "print(C.__mro__) #Print Method Resolution Order - (<class '__main__.C'>, <class '__main__.A'>, <class '__main__.B'>, <class 'object'>)\n",
    "\n",
    "\n",
    "# OUTPUT:\n",
    "# Class B Init\n",
    "# Class A Init\n",
    "# Prop1\n",
    "# Prop2\n",
    "# Class A"
   ]
  },
  {
   "cell_type": "code",
   "execution_count": 4,
   "id": "b8f5c5ac-dc20-4d98-96ae-7917d1afb184",
   "metadata": {},
   "outputs": [
    {
     "name": "stdout",
     "output_type": "stream",
     "text": [
      "314.1592653589793\n",
      "{'Circle' : 314.1592653589793}\n"
     ]
    }
   ],
   "source": [
    "import math\n",
    "from abc import ABC, abstractmethod #Import Abstract Base Class\n",
    "\n",
    "class GraphicShape(ABC): #Extending ABC implies that GraphicShape is a Abstract Base Class & No Objects of it can be created\n",
    "    def __init__(Self):\n",
    "        super().__init__()\n",
    "\n",
    "    @abstractmethod #Decorator implies that subclass must override this method\n",
    "    def calcArea(Self):\n",
    "        pass\n",
    "\n",
    "class JSONify(ABC):\n",
    "    @abstractmethod\n",
    "    def jsonify(Self):\n",
    "        pass\n",
    "\n",
    "class Circle(GraphicShape, JSONify):\n",
    "    def __init__(Self, radius):\n",
    "        Self.radius = radius\n",
    "\n",
    "    def calcArea(Self):\n",
    "        return math.pi * Self.radius * Self.radius\n",
    "\n",
    "    def jsonify(Self):\n",
    "        return f\"{{'Circle' : {str(Self.calcArea())}}}\"\n",
    "\n",
    "class Square():\n",
    "    def __init__(Self, side):\n",
    "        Self.side = side\n",
    "\n",
    "    def calcArea(Self):\n",
    "        return Self.side * Self.side\n",
    "\n",
    "c = Circle(10)\n",
    "print(c.calcArea()) #314.1592653589793\n",
    "print(c.jsonify()) #{'Circle' : 314.1592653589793}\n",
    "\n"
   ]
  },
  {
   "cell_type": "code",
   "execution_count": 5,
   "id": "f766eb41-8ad4-461f-baa8-93f5465137c8",
   "metadata": {},
   "outputs": [
    {
     "name": "stdout",
     "output_type": "stream",
     "text": [
      "300\n"
     ]
    }
   ],
   "source": [
    "#Compostion ==> Has Relationship\n",
    "#Book has Author, Chapter\n",
    "class Author:\n",
    "    def __init__(Self, fname, lname):\n",
    "        Self.fname = fname\n",
    "        Self.lname = lname\n",
    "\n",
    "    def __str__(Self):\n",
    "        return f\"{Self.fname} {Self.lname}\"\n",
    "\n",
    "class Chapter:\n",
    "    def __init__(Self, name, pagecount):\n",
    "        Self.name = name\n",
    "        Self.pagecount = pagecount\n",
    "        \n",
    "class Book:\n",
    "    def __init__(Self, title, price, author = None):\n",
    "        Self.title = title\n",
    "        Self.price = price\n",
    "        Self.author = author\n",
    "        Self.chapters = []\n",
    "\n",
    "    def addChapter(Self, chapter):\n",
    "        Self.chapters.append(chapter)\n",
    "\n",
    "    def getPageCount(Self):\n",
    "        result = 0\n",
    "        for each_chap in Self.chapters:\n",
    "            result +=  each_chap.pagecount\n",
    "        return result\n",
    "\n",
    "auth = Author(\"Napoleon\", \"Hill\")\n",
    "b = Book(\"Think & Grow Rich\", 229, auth)\n",
    "b.addChapter(Chapter(\"Chapter 1\", 50))\n",
    "b.addChapter(Chapter(\"Chapter 2\", 100))\n",
    "b.addChapter(Chapter(\"Chapter 1\", 150))\n",
    "\n",
    "print(b.getPageCount()) #3003\n"
   ]
  },
  {
   "cell_type": "code",
   "execution_count": 6,
   "id": "488b1f5e-a629-4bd5-8782-69b4e2d75b05",
   "metadata": {},
   "outputs": [
    {
     "name": "stdout",
     "output_type": "stream",
     "text": [
      "MSFT: Microsoft Corporation -- $400.0\n",
      "30 Year US Treasury: 30 : $100.0 : 4.38%\n"
     ]
    }
   ],
   "source": [
    "#Asset Base Class. Child Classes Stock & Bond\n",
    "from abc import ABC, abstractmethod\n",
    "class Asset(ABC):\n",
    "    def __init__(Self, price):\n",
    "        super().__init__()\n",
    "        Self.price = price\n",
    "    \n",
    "    @abstractmethod\n",
    "    def get_description(Self):\n",
    "        pass\n",
    "\n",
    "class Stock(Asset):\n",
    "    def __init__(Self, ticker, price, description):\n",
    "        super().__init__(price)\n",
    "        Self.ticker = ticker\n",
    "        Self.description = description\n",
    "\n",
    "    def get_description(Self):\n",
    "        return f\"{Self.ticker}: {Self.description} -- ${Self.price}\"\n",
    "\n",
    "class Bond(Asset):\n",
    "    def __init__(Self, price, name, duration, interest):\n",
    "        super().__init__(price)\n",
    "        Self.name = name\n",
    "        Self.duration = duration\n",
    "        Self.interest = interest\n",
    "\n",
    "    def get_description(Self):\n",
    "        return f\"{Self.name}: {Self.duration} : ${Self.price} : {Self.interest}%\"    \n",
    "\n",
    "\n",
    "ticker = \"MSFT\"\n",
    "price = 400.00\n",
    "description = \"Microsoft Corporation\"\n",
    "bondname = \"30 Year US Treasury\"\n",
    "bondprice = 100.00\n",
    "duration = 30\n",
    "interest = 4.38\n",
    "\n",
    "stock = Stock(ticker, price, description)\n",
    "stock_description = stock.get_description()\n",
    "\n",
    "bond = Bond(bondprice, bondname, duration, interest)\n",
    "bond_description = bond.get_description()\n",
    "\n",
    "print(stock_description) #MSFT: Microsoft Corporation -- $400.0\n",
    "print(bond_description) #30 Year US Treasury: 30 : $100.0 : 4.38%"
   ]
  }
 ],
 "metadata": {
  "kernelspec": {
   "display_name": "Python 3 (ipykernel)",
   "language": "python",
   "name": "python3"
  },
  "language_info": {
   "codemirror_mode": {
    "name": "ipython",
    "version": 3
   },
   "file_extension": ".py",
   "mimetype": "text/x-python",
   "name": "python",
   "nbconvert_exporter": "python",
   "pygments_lexer": "ipython3",
   "version": "3.13.1"
  }
 },
 "nbformat": 4,
 "nbformat_minor": 5
}

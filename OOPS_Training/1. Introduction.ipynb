{
 "cells": [
  {
   "cell_type": "code",
   "execution_count": 1,
   "id": "9d356ee0-820a-4dbe-b194-206660e508f5",
   "metadata": {},
   "outputs": [
    {
     "name": "stdout",
     "output_type": "stream",
     "text": [
      "Think & Grow Rich\n"
     ]
    }
   ],
   "source": [
    "class Book: #Class Definition\n",
    "    def __init__(Self, title): #Initializer Function\n",
    "        Self.title = title\n",
    "\n",
    "book= Book(\"Think & Grow Rich\") #Creation of Object\n",
    "print(book.title) #Print Title of Book. Access Object Property"
   ]
  },
  {
   "cell_type": "code",
   "execution_count": 2,
   "id": "cd33b044-fdc7-46fb-b7ef-78939742dd39",
   "metadata": {},
   "outputs": [
    {
     "name": "stdout",
     "output_type": "stream",
     "text": [
      "Think & Grow Rich\n",
      "200\n",
      "300\n",
      "225.0\n",
      "Secret Attribute\n"
     ]
    }
   ],
   "source": [
    "class Book: #Class Definition\n",
    "    def __init__(Self, title, author, price, pages): #Initializer Function\n",
    "        #Instance Attributes\n",
    "        Self.title = title\n",
    "        Self.author = author\n",
    "        Self.pages = pages\n",
    "        Self.price = price\n",
    "        Self.__secret = \"Secret Attribute\" #__Var helps in preventing override of this attribute by subclasses\n",
    "\n",
    "    def getPrice(Self):\n",
    "        #Return price of book\n",
    "        if hasattr(Self, \"_discount\"):\n",
    "            return Self.price - (Self.price * Self._discount)\n",
    "        return Self.price\n",
    "\n",
    "    def setDiscount(Self, percent):\n",
    "        #Set Discount\n",
    "        Self._discount = percent\n",
    "\n",
    "book= Book(\"Think & Grow Rich\", \"Napoleon Hill\",200,208) #Creation of Object\n",
    "print(book.title)#Print Title of Book. Access Object Property - Think & Grow Rich\n",
    "print(book.getPrice()) #Print Price of Book. Access Object Property - 200\n",
    "\n",
    "book2= Book(\"The Compound Effect\", \"Darren Hardy\",300,238) #Creation of Object\n",
    "print(book2.getPrice()) #Print Price of Book. Access Object Property - 300\n",
    "book2.setDiscount(0.25)\n",
    "print(book2.getPrice()) #Print Price of Book. Access Object Property - 225\n",
    "\n",
    "print(book2._Book__secret) #_CLASS_MAME__VAR Accessing Secret Attributes - Secret Attribute\n"
   ]
  },
  {
   "cell_type": "code",
   "execution_count": 3,
   "id": "89b6e0b7-5527-4cff-818a-f576cd83fe6c",
   "metadata": {},
   "outputs": [
    {
     "name": "stdout",
     "output_type": "stream",
     "text": [
      "<class '__main__.Book'>\n",
      "<class '__main__.NewsPaper'>\n",
      "True\n",
      "False\n",
      "True\n",
      "True\n",
      "False\n",
      "True\n"
     ]
    }
   ],
   "source": [
    "class Book: #Class Definition\n",
    "    def __init__(Self, title): #Initializer Function\n",
    "        Self.title = title\n",
    "\n",
    "class NewsPaper:\n",
    "    def __init__(Self, name):\n",
    "        Self.name = name\n",
    "\n",
    "book= Book(\"Think & Grow Rich\") #Creation of Object\n",
    "book2= Book(\"The Compound Effect\") #Creation of Object\n",
    "paper1 = NewsPaper(\"Eenadu\") #Creation of Object\n",
    "paper2 = NewsPaper(\"Sakshi\") #Creation of Object\n",
    "\n",
    "#Get the types of objects\n",
    "print(type(book)) #<class '__main__.Book'>\n",
    "print(type(paper1)) #<class '__main__.NewsPaper'>\n",
    "\n",
    "#Compare Types\n",
    "print(type(book) == type(book2)) #True\n",
    "print(type(book) == type(paper1)) #False\n",
    "\n",
    "#isinstance Method\n",
    "print(isinstance(book, Book)) #True\n",
    "print(isinstance(paper1, NewsPaper)) #True\n",
    "print(isinstance(paper1, Book)) #False\n",
    "print(isinstance(paper1, object)) #True\n"
   ]
  },
  {
   "cell_type": "code",
   "execution_count": 4,
   "id": "cf9edb76-ae88-4ffa-84aa-fa7fcf01dc96",
   "metadata": {},
   "outputs": [
    {
     "name": "stdout",
     "output_type": "stream",
     "text": [
      "Invalid Book Type\n",
      "('PAPERBACK', 'EBOOK', 'HARDCOVER')\n",
      "[<__main__.Book object at 0x103c24c20>, <__main__.Book object at 0x103a691d0>]\n"
     ]
    }
   ],
   "source": [
    "class Book: #Class Definition\n",
    "\n",
    "    BOOK_TYPES = (\"PAPERBACK\",\"EBOOK\",\"HARDCOVER\")\n",
    "    __booklist = None\n",
    "    def __init__(Self, title, booktype): #Initializer Function\n",
    "        if booktype not in Book.BOOK_TYPES:\n",
    "            raise ValueError(f\"{booktype} is not valid book type\")\n",
    "        Self.title = title\n",
    "\n",
    "    def getbooklist():\n",
    "        if Book.__booklist is None:\n",
    "            Book.__booklist = []\n",
    "        Book.__booklist\n",
    "        return Book.__booklist\n",
    "            \n",
    "    def setTitle(Self, newTitle):\n",
    "        Self.title = newTitle\n",
    "\n",
    "    #Class Method - First Argument is Class\n",
    "    @classmethod\n",
    "    def getBookTypes(Class):\n",
    "        return Class.BOOK_TYPES\n",
    "\n",
    "book= Book(\"Think & Grow Rich\", \"HARDCOVER\") #Creation of Object\n",
    "try:\n",
    "    book2= Book(\"The Compund Effect\", \"COMIC\") #Creation of Object\n",
    "except ValueError:\n",
    "    print(\"Invalid Book Type\")\n",
    "\n",
    "#Calling Class Method\n",
    "print(Book.getBookTypes())\n",
    "\n",
    "#Calling Static  Method\n",
    "book_list = Book.getbooklist()\n",
    "\n",
    "book2= Book(\"The Compund Effect\", \"PAPERBACK\") #Creation of Object\n",
    "book_list.append(book)\n",
    "book_list.append(book2)\n",
    "print(book_list)\n"
   ]
  },
  {
   "cell_type": "code",
   "execution_count": 5,
   "id": "c49c2a9d-02bc-49ce-a1cc-0f21af3909da",
   "metadata": {},
   "outputs": [
    {
     "name": "stdout",
     "output_type": "stream",
     "text": [
      "GOOG: Google LLC -- $185.45\n"
     ]
    }
   ],
   "source": [
    "#Stock Class Challenge\n",
    "class Stock:\n",
    "    def __init__(Self, Ticker, Price, Company):\n",
    "        Self.Ticker = Ticker\n",
    "        Self.Price = Price\n",
    "        Self.Company = Company\n",
    "    def get_description(Self):\n",
    "        return f\"{Self.Ticker}: {Self.Company} -- ${Self.Price}\"\n",
    "\n",
    "ticker = \"GOOG\"\n",
    "price = 185.45\n",
    "company = \"Google LLC\"\n",
    "\n",
    "# DO NOT change this code:\n",
    "symbol = Stock(ticker, price, company)\n",
    "print(symbol.get_description())\n"
   ]
  }
 ],
 "metadata": {
  "kernelspec": {
   "display_name": "Python 3 (ipykernel)",
   "language": "python",
   "name": "python3"
  },
  "language_info": {
   "codemirror_mode": {
    "name": "ipython",
    "version": 3
   },
   "file_extension": ".py",
   "mimetype": "text/x-python",
   "name": "python",
   "nbconvert_exporter": "python",
   "pygments_lexer": "ipython3",
   "version": "3.13.1"
  }
 },
 "nbformat": 4,
 "nbformat_minor": 5
}
